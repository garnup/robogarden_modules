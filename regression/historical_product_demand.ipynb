{
 "cells": [
  {
   "cell_type": "code",
   "execution_count": 1,
   "metadata": {},
   "outputs": [
    {
     "name": "stdout",
     "output_type": "stream",
     "text": [
      "   Product_Code Warehouse Product_Category       Date Order_Demand\n",
      "0  Product_0993    Whse_J     Category_028  2012/7/27         100 \n",
      "1  Product_0979    Whse_J     Category_028  2012/1/19         500 \n",
      "2  Product_0979    Whse_J     Category_028   2012/2/3         500 \n",
      "3  Product_0979    Whse_J     Category_028   2012/2/9         500 \n",
      "4  Product_0979    Whse_J     Category_028   2012/3/2         500 \n",
      "Product_Code        0\n",
      "Warehouse           0\n",
      "Product_Category    0\n",
      "Date                0\n",
      "Order_Demand        0\n",
      "dtype: int64\n"
     ]
    }
   ],
   "source": [
    "import pandas as pd\n",
    "import numpy as np\n",
    "\n",
    "FILE = 'Historical Product Demand.csv'\n",
    "\n",
    "df_raw = pd.read_csv(FILE)\n",
    "\n",
    "print(df_raw.head(5))\n",
    "df_raw = df_raw.dropna()\n",
    "\n",
    "print(df_raw.isna().sum())"
   ]
  },
  {
   "cell_type": "code",
   "execution_count": 2,
   "metadata": {},
   "outputs": [
    {
     "name": "stdout",
     "output_type": "stream",
     "text": [
      "   Product_Code Warehouse Product_Category Order_Demand  Year  Month  Day\n",
      "0  Product_0993    Whse_J     Category_028         100   2012      7   27\n",
      "1  Product_0979    Whse_J     Category_028         500   2012      1   19\n",
      "2  Product_0979    Whse_J     Category_028         500   2012      2    3\n",
      "3  Product_0979    Whse_J     Category_028         500   2012      2    9\n",
      "4  Product_0979    Whse_J     Category_028         500   2012      3    2\n"
     ]
    }
   ],
   "source": [
    "def splitDate(datestr: str):\n",
    "    datelist = datestr.split('/')\n",
    "    for n in range(len(datelist)):\n",
    "        datelist[n] = int(datelist[n])\n",
    "    return datelist\n",
    "\n",
    "df_raw['Date'] = df_raw['Date'].apply(splitDate)\n",
    "df_raw['Year'] = df_raw['Date'].apply(lambda x: x[0])\n",
    "df_raw['Month'] = df_raw['Date'].apply(lambda x: x[1])\n",
    "df_raw['Day'] = df_raw['Date'].apply(lambda x: x[2])\n",
    "df_raw = df_raw.drop('Date', axis=1)\n",
    "print(df_raw.head(5))"
   ]
  },
  {
   "cell_type": "code",
   "execution_count": 3,
   "metadata": {},
   "outputs": [
    {
     "name": "stdout",
     "output_type": "stream",
     "text": [
      "Product_Code\n",
      "Product_1359    16936\n",
      "Product_1295    10575\n",
      "Product_1378     9770\n",
      "Product_0620     9428\n",
      "Product_1286     8888\n",
      "                ...  \n",
      "Product_1698        2\n",
      "Product_0465        1\n",
      "Product_2099        1\n",
      "Product_1703        1\n",
      "Product_0853        1\n",
      "Name: count, Length: 2160, dtype: int64\n",
      "Product_Category\n",
      "Category_019    470266\n",
      "Category_005    101627\n",
      "Category_001     97787\n",
      "Category_007     82402\n",
      "Category_021     52008\n",
      "Category_006     35552\n",
      "Category_028     31012\n",
      "Category_011     23208\n",
      "Category_015     22954\n",
      "Category_024     20885\n",
      "Category_009     19738\n",
      "Category_026     14771\n",
      "Category_030     12997\n",
      "Category_032      9296\n",
      "Category_022      8657\n",
      "Category_023      7899\n",
      "Category_018      5239\n",
      "Category_003      4189\n",
      "Category_013      3743\n",
      "Category_020      3490\n",
      "Category_031      2268\n",
      "Category_033      1849\n",
      "Category_008      1560\n",
      "Category_012      1147\n",
      "Category_010       976\n",
      "Category_029       671\n",
      "Category_017       615\n",
      "Category_004       329\n",
      "Category_002        77\n",
      "Category_016        37\n",
      "Category_025        35\n",
      "Category_014        26\n",
      "Category_027        26\n",
      "Name: count, dtype: int64\n"
     ]
    }
   ],
   "source": [
    "print(df_raw['Product_Code'].value_counts())\n",
    "print(df_raw['Product_Category'].value_counts())\n",
    "def splitCode(code: str):\n",
    "    codelist = code.split('_')\n",
    "    return int(codelist[1])\n",
    "\n",
    "df_raw['Product_Code'] = df_raw['Product_Code'].apply(splitCode)\n",
    "df_raw['Product_Category'] = df_raw['Product_Category'].apply(splitCode)\n",
    "\n"
   ]
  },
  {
   "cell_type": "code",
   "execution_count": 4,
   "metadata": {},
   "outputs": [
    {
     "name": "stdout",
     "output_type": "stream",
     "text": [
      "   Product_Code Warehouse  Product_Category  Order_Demand  Year  Month  Day\n",
      "0           993    Whse_J                28           100  2012      7   27\n",
      "1           979    Whse_J                28           500  2012      1   19\n",
      "2           979    Whse_J                28           500  2012      2    3\n",
      "3           979    Whse_J                28           500  2012      2    9\n",
      "4           979    Whse_J                28           500  2012      3    2\n"
     ]
    }
   ],
   "source": [
    "def replaceParens(s: str):\n",
    "    s = s.replace('(','-')\n",
    "    s = s.replace(')', '')\n",
    "    return int(s)\n",
    "\n",
    "df_raw['Order_Demand'] = df_raw['Order_Demand'].apply(replaceParens)\n",
    "print(df_raw.head(5))"
   ]
  },
  {
   "cell_type": "code",
   "execution_count": 5,
   "metadata": {},
   "outputs": [
    {
     "name": "stdout",
     "output_type": "stream",
     "text": [
      "Warehouse_Whse_A   -0.053673\n",
      "Warehouse_Whse_J   -0.031373\n",
      "Day                -0.002012\n",
      "Month              -0.000690\n",
      "Year                0.008365\n",
      "Product_Code        0.031889\n",
      "Product_Category    0.053927\n",
      "Warehouse_Whse_C    0.062563\n",
      "Warehouse_Whse_S    0.071347\n",
      "Order_Demand        1.000000\n",
      "dtype: float64\n"
     ]
    }
   ],
   "source": [
    "def encodeOneHot(df, col: str, prefix: str = None):\n",
    "    df = pd.concat([df, pd.get_dummies(df[col], dtype=float, prefix=prefix)], axis=1)\n",
    "    df = df.drop(col, axis=1)\n",
    "    return df\n",
    "\n",
    "onehot_features = ['Warehouse']\n",
    "for f in onehot_features:\n",
    "    df_raw = encodeOneHot(df_raw, f, prefix=f)\n",
    "\n",
    "corrs = df_raw.corrwith(df_raw['Order_Demand']).sort_values()\n",
    "print(corrs)"
   ]
  },
  {
   "cell_type": "code",
   "execution_count": 6,
   "metadata": {},
   "outputs": [],
   "source": [
    "from sklearn.preprocessing import MinMaxScaler\n",
    "\n",
    "scaler = MinMaxScaler()\n",
    "df_scaled = pd.DataFrame(scaler.fit_transform(df_raw.to_numpy()), columns=df_raw.columns.to_list())"
   ]
  },
  {
   "cell_type": "code",
   "execution_count": 7,
   "metadata": {},
   "outputs": [],
   "source": [
    "from sklearn.model_selection import train_test_split\n",
    "df_train, df_valid_test = train_test_split(df_scaled, test_size=0.2, random_state=0)\n",
    "df_valid, df_test = train_test_split(df_valid_test, test_size=0.5, random_state=0)\n",
    "target = 'Order_Demand'\n",
    "y_train, y_valid, y_test = df_train[target], df_valid[target], df_test[target]\n",
    "X_train, X_valid, X_test = df_train.drop(target, axis=1), df_valid.drop(target, axis=1), df_test.drop(target, axis=1)\n"
   ]
  },
  {
   "cell_type": "code",
   "execution_count": 8,
   "metadata": {},
   "outputs": [
    {
     "name": "stdout",
     "output_type": "stream",
     "text": [
      "VALIDATION: the best score was 0.183133 with max_depth=10\n",
      "TESTING: the test score was 0.161211 with max_depth=10\n"
     ]
    }
   ],
   "source": [
    "from sklearn.tree import DecisionTreeRegressor\n",
    "\n",
    "best_score = 0\n",
    "best_depth = 0\n",
    "for d in range(8,16):\n",
    "    dtr = DecisionTreeRegressor(max_depth=d).fit(X_train, y_train)\n",
    "    score = dtr.score(X_valid, y_valid)\n",
    "    if score > best_score:\n",
    "        best_score, best_depth = score, d\n",
    "\n",
    "print(\"VALIDATION: the best score was %f with max_depth=%d\"%(best_score, best_depth))\n",
    "\n",
    "dtr = DecisionTreeRegressor(max_depth=best_depth).fit(X_train, y_train)\n",
    "test_score = dtr.score(X_test, y_test)\n",
    "print(\"TESTING: the test score was %f with max_depth=%d\"%(test_score, best_depth))\n"
   ]
  },
  {
   "cell_type": "code",
   "execution_count": 9,
   "metadata": {},
   "outputs": [
    {
     "name": "stdout",
     "output_type": "stream",
     "text": [
      "VALIDATION: the best score was 0.205758 with max_depth=24\n",
      "TESTING: the test score was 0.226794 with max_depth=24\n"
     ]
    }
   ],
   "source": [
    "'''I tried encoding dates using OneHot encoding and the results were poor.\n",
    "Dropping Day and using only Month and Year resulted in a noticeable improvement,\n",
    "but the best R2 score results came from dropping date values completely.\n",
    "Interestingly, the OneHot Encoded values worked best when they were also scaled,\n",
    "but the results still weren't as good as dropping date values completely.\n",
    "'''\n",
    "features_to_drop = ['Day', 'Year', 'Month']\n",
    "df_fs = df_scaled.drop(features_to_drop, axis=1)\n",
    "\n",
    "from sklearn.model_selection import train_test_split\n",
    "df_train, df_valid_test = train_test_split(df_fs, test_size=0.2, random_state=0)\n",
    "df_valid, df_test = train_test_split(df_valid_test, test_size=0.5, random_state=0)\n",
    "y_train, y_valid, y_test = df_train[target], df_valid[target], df_test[target]\n",
    "X_train, X_valid, X_test = df_train.drop(target, axis=1), df_valid.drop(target, axis=1), df_test.drop(target, axis=1)\n",
    "\n",
    "best_score = 0\n",
    "best_depth = 0\n",
    "for d in range(16,26):\n",
    "    dtr = DecisionTreeRegressor(max_depth=d).fit(X_train, y_train)\n",
    "    score = dtr.score(X_valid, y_valid)\n",
    "    if score > best_score:\n",
    "        best_score, best_depth = score, d\n",
    "\n",
    "print(\"VALIDATION: the best score was %f with max_depth=%d\"%(best_score, best_depth))\n",
    "\n",
    "dtr = DecisionTreeRegressor(max_depth=best_depth).fit(X_train, y_train)\n",
    "test_score = dtr.score(X_test, y_test)\n",
    "print(\"TESTING: the test score was %f with max_depth=%d\"%(test_score, best_depth))\n"
   ]
  },
  {
   "cell_type": "code",
   "execution_count": null,
   "metadata": {},
   "outputs": [
    {
     "name": "stdout",
     "output_type": "stream",
     "text": [
      "TESTING: the test score was -202.176278\n"
     ]
    }
   ],
   "source": [
    "from sklearn.svm import SVR\n",
    "\n",
    "svr = SVR().fit(X_train, y_train)\n",
    "test_score = svr.score(X_test, y_test)\n",
    "print(\"TESTING: the test score was %f\"%test_score)\n",
    "'''I only fit radial-basis function SVR here because the linear and\n",
    "polynomial options were taking over 33 minutes to run so I left those\n",
    "out as impractical. I'll try a random-forest approach below.\n",
    "The RBF SVR scored terribly, however.\n",
    "'''"
   ]
  },
  {
   "cell_type": "code",
   "execution_count": 13,
   "metadata": {},
   "outputs": [
    {
     "name": "stdout",
     "output_type": "stream",
     "text": [
      "VALIDATION: random forest best score 0.208175 with n_estimators=5 and max_depth=22\n",
      "Testing: random forest test score 0.226280 with n_estimators=5 and max_depth=22\n"
     ]
    }
   ],
   "source": [
    "from sklearn.ensemble import RandomForestRegressor\n",
    "\n",
    "best_score = 0\n",
    "best_estimators = 0\n",
    "best_depth = 0\n",
    "best_rfr = None\n",
    "\n",
    "for n in range(3,7):\n",
    "    for d in range(20,26):\n",
    "        rfr = RandomForestRegressor(n_estimators=n, max_depth=d).fit(X_train, y_train)\n",
    "        score = rfr.score(X_valid, y_valid)\n",
    "        if score > best_score:\n",
    "            best_score, best_estimators, best_depth, best_rfr = score, n, d, rfr\n",
    "\n",
    "print(\"VALIDATION: random forest best score %f with n_estimators=%d and max_depth=%d\"%(best_score, best_estimators, best_depth))\n",
    "\n",
    "test_score = rfr.score(X_test, y_test)\n",
    "print(\"Testing: random forest test score %f with n_estimators=%d and max_depth=%d\"%(test_score, best_estimators, best_depth))"
   ]
  }
 ],
 "metadata": {
  "kernelspec": {
   "display_name": ".venv",
   "language": "python",
   "name": "python3"
  },
  "language_info": {
   "codemirror_mode": {
    "name": "ipython",
    "version": 3
   },
   "file_extension": ".py",
   "mimetype": "text/x-python",
   "name": "python",
   "nbconvert_exporter": "python",
   "pygments_lexer": "ipython3",
   "version": "3.12.7"
  }
 },
 "nbformat": 4,
 "nbformat_minor": 2
}

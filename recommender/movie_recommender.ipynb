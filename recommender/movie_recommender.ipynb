{
 "cells": [
  {
   "cell_type": "markdown",
   "metadata": {},
   "source": [
    "Steps\n",
    " \n",
    "1. Popularity-Based Recommendation\n",
    "• Recommend top movies based on the average rating.\n",
    "def  popurality_based(full_movies, n=number of movies to return) -> list of n movie names\n",
    "2. Collaborative Filtering\n",
    "• User-Based: Find similar users and recommend movies they liked.\n",
    "• Item-Based: Recommend movies similar to those a user has already rated highly.\n",
    "def colobrative_filtering(full_movies, n=number of movies to return, type=’user’)\n",
    "3. Content-Based Filtering\n",
    "• Recommend movies based on the similarity of their genres.\n",
    "Def content_based_filtering(full_movies, n: number of movies to recommend) -> list of n movie names\n",
    " \n",
    "4. Hybrid Recommendation\n",
    "• Combine the above methods (e.g., weighted average of scores from collaborative filtering and content-based methods).\n",
    "Def hybrid_filtering(full_movies, n: number of movies to recommend) -> list of n movie names"
   ]
  },
  {
   "cell_type": "code",
   "execution_count": 33,
   "metadata": {},
   "outputs": [
    {
     "name": "stdout",
     "output_type": "stream",
     "text": [
      "   movieId                    title  \\\n",
      "0        1         Toy Story (1995)   \n",
      "1        2           Jumanji (1995)   \n",
      "2        3  Grumpier Old Men (1995)   \n",
      "\n",
      "                                        genres  \n",
      "0  Adventure|Animation|Children|Comedy|Fantasy  \n",
      "1                   Adventure|Children|Fantasy  \n",
      "2                               Comedy|Romance  \n",
      "   userId  movieId  rating  timestamp\n",
      "0       1        1     4.0  964982703\n",
      "1       1        3     4.0  964981247\n",
      "2       1        6     4.0  964982224\n",
      "\n",
      "   userId  movieId  rating  timestamp                        title  \\\n",
      "0       1        1     4.0  964982703             Toy Story (1995)   \n",
      "1       1        3     4.0  964981247      Grumpier Old Men (1995)   \n",
      "2       1        6     4.0  964982224                  Heat (1995)   \n",
      "3       1       47     5.0  964983815  Seven (a.k.a. Se7en) (1995)   \n",
      "4       1       50     5.0  964982931   Usual Suspects, The (1995)   \n",
      "\n",
      "                                        genres  \n",
      "0  Adventure|Animation|Children|Comedy|Fantasy  \n",
      "1                               Comedy|Romance  \n",
      "2                        Action|Crime|Thriller  \n",
      "3                             Mystery|Thriller  \n",
      "4                       Crime|Mystery|Thriller  \n"
     ]
    }
   ],
   "source": [
    "import pandas as pd\n",
    "pd.set_option('future.no_silent_downcasting', True)\n",
    "\n",
    "df_movies = pd.read_excel('movies.xlsx')\n",
    "df_ratings = pd.read_excel('ratings.xlsx')\n",
    "df_tags = pd.read_excel('tags.xlsx')\n",
    "\n",
    "print(df_movies.head(3))\n",
    "df_movies = df_movies.drop_duplicates()\n",
    "print(df_ratings.head(3))\n",
    "df_ratings = df_ratings.drop_duplicates()\n",
    "print()\n",
    "df_tags = df_tags.drop_duplicates()\n",
    "movie_ratings = pd.merge(df_ratings, df_movies, on='movieId', how='left')\n",
    "print(movie_ratings.head(5))"
   ]
  },
  {
   "cell_type": "code",
   "execution_count": 34,
   "metadata": {},
   "outputs": [
    {
     "name": "stdout",
     "output_type": "stream",
     "text": [
      "34031                 Green Mile, The (1999)\n",
      "50717    Monty Python's Life of Brian (1979)\n",
      "18166                  Lightning Jack (1994)\n",
      "18165                   Jurassic Park (1993)\n",
      "76157               Flamingo Kid, The (1984)\n",
      "Name: title, dtype: object\n"
     ]
    }
   ],
   "source": [
    "def popularity_based(movie_ratings, n_movies=5):\n",
    "    top_movies = movie_ratings.sort_values(by='rating', axis=0, ascending=False)['title'].head(n_movies)\n",
    "    return top_movies\n",
    "\n",
    "top_movies = popularity_based(movie_ratings, n_movies=5)\n",
    "print(top_movies)"
   ]
  },
  {
   "cell_type": "code",
   "execution_count": 35,
   "metadata": {},
   "outputs": [
    {
     "name": "stdout",
     "output_type": "stream",
     "text": [
      "            0     1      2      3      4\n",
      "userId                                  \n",
      "1       73017  8533  49772  45668  81845\n",
      "2         339    50    590    150     62\n",
      "3        3421  1663   1194   1210    420\n"
     ]
    }
   ],
   "source": [
    "from sklearn.metrics.pairwise import pairwise_distances\n",
    "import numpy as np\n",
    "\n",
    "def collaborative_user_based(movie_ratings, n_movies=5):\n",
    "    user_ratings = movie_ratings.pivot_table(index='userId', columns='movieId', values='rating', fill_value=0)\n",
    "    distances = pairwise_distances(user_ratings, metric='cosine')\n",
    "    closest_user_indices = np.argsort(distances, axis=1)[:,-3:-2]\n",
    "    closest_users = user_ratings.iloc[closest_user_indices.ravel()]\n",
    "    recommended_movie_indices = closest_users.values.argsort(axis=1)[:,-n_movies:]\n",
    "    closest_user_movies = pd.DataFrame(user_ratings.columns.to_numpy()[recommended_movie_indices], index=user_ratings.index)\n",
    "    return closest_user_movies\n",
    "\n",
    "rec_collab_user_movies = collaborative_user_based(movie_ratings, n_movies=5)\n",
    "print(rec_collab_user_movies.head(3))"
   ]
  },
  {
   "cell_type": "code",
   "execution_count": 36,
   "metadata": {},
   "outputs": [
    {
     "name": "stdout",
     "output_type": "stream",
     "text": [
      "             0      1      2      3      4\n",
      "movieId                                   \n",
      "1        26554   3544  92637  92730  92760\n",
      "2         5979   5975  98604   5974   5969\n",
      "3        26171  26169  26158  26151  26150\n"
     ]
    }
   ],
   "source": [
    "def collaborative_item_based(movie_ratings, n_movies=5):\n",
    "    movie_ratings_user = movie_ratings.pivot_table(index='movieId', columns='userId', values='rating', fill_value=0)\n",
    "    distances = pairwise_distances(movie_ratings_user, metric='cosine')\n",
    "    closest_movie_indices = np.argsort(distances, axis=1)[:,(-n_movies-2):-2]\n",
    "    closest_movies = pd.DataFrame(movie_ratings_user.index.to_numpy()[closest_movie_indices], index=movie_ratings_user.index)\n",
    "    return closest_movies\n",
    "\n",
    "rec_collab_item_movies = collaborative_item_based(movie_ratings, n_movies=5)\n",
    "print(rec_collab_item_movies.head(3))"
   ]
  },
  {
   "cell_type": "code",
   "execution_count": 41,
   "metadata": {},
   "outputs": [
    {
     "name": "stdout",
     "output_type": "stream",
     "text": [
      "             0      1      2      3     4\n",
      "movieId                                  \n",
      "1         2076  52967  52952   5390  5391\n",
      "2         4936   4939   4942   4945  4946\n",
      "3        44397  44301   3736   3737  3738\n",
      "4         1999   1998  55156  55167  1997\n",
      "5        27722  27721   3173  27708  3176\n"
     ]
    }
   ],
   "source": [
    "from sklearn.feature_extraction.text import CountVectorizer\n",
    "\n",
    "def content_based(movies, n_movies=5):\n",
    "    genres_vectors = CountVectorizer().fit_transform(movies.genres)\n",
    "    distances = pairwise_distances(genres_vectors, metric='cosine')\n",
    "    closest_movie_indices = np.argsort(distances, axis=1)[:,(-n_movies-2):-2]\n",
    "    closest_movies = pd.DataFrame(movies.movieId.to_numpy()[closest_movie_indices], index=movies.movieId)\n",
    "    return closest_movies\n",
    "\n",
    "rec_content_movies = content_based(df_movies, n_movies=5)\n",
    "print(rec_content_movies.head(5))"
   ]
  },
  {
   "cell_type": "code",
   "execution_count": null,
   "metadata": {},
   "outputs": [
    {
     "ename": "AttributeError",
     "evalue": "Can only use .dt accessor with datetimelike values",
     "output_type": "error",
     "traceback": [
      "\u001b[0;31m---------------------------------------------------------------------------\u001b[0m",
      "\u001b[0;31mAttributeError\u001b[0m                            Traceback (most recent call last)",
      "Cell \u001b[0;32mIn[47], line 1\u001b[0m\n\u001b[0;32m----> 1\u001b[0m movie_ratings[\u001b[38;5;124m'\u001b[39m\u001b[38;5;124mtimestamp\u001b[39m\u001b[38;5;124m'\u001b[39m] \u001b[38;5;241m=\u001b[39m \u001b[43mmovie_ratings\u001b[49m\u001b[43m[\u001b[49m\u001b[38;5;124;43m'\u001b[39;49m\u001b[38;5;124;43mtimestamp\u001b[39;49m\u001b[38;5;124;43m'\u001b[39;49m\u001b[43m]\u001b[49m\u001b[38;5;241;43m.\u001b[39;49m\u001b[43mdt\u001b[49m\u001b[38;5;241m.\u001b[39mdate\n\u001b[1;32m      2\u001b[0m movie_dates \u001b[38;5;241m=\u001b[39m pd\u001b[38;5;241m.\u001b[39mto_datetime(movie_ratings\u001b[38;5;241m.\u001b[39mtimestamp, unit\u001b[38;5;241m=\u001b[39m\u001b[38;5;124m'\u001b[39m\u001b[38;5;124mD\u001b[39m\u001b[38;5;124m'\u001b[39m)\n\u001b[1;32m      3\u001b[0m \u001b[38;5;28mprint\u001b[39m(movie_dates\u001b[38;5;241m.\u001b[39mhead(\u001b[38;5;241m5\u001b[39m))\n",
      "File \u001b[0;32m~/robogarden_modules/data_intro/.venv/lib/python3.12/site-packages/pandas/core/generic.py:6299\u001b[0m, in \u001b[0;36mNDFrame.__getattr__\u001b[0;34m(self, name)\u001b[0m\n\u001b[1;32m   6292\u001b[0m \u001b[38;5;28;01mif\u001b[39;00m (\n\u001b[1;32m   6293\u001b[0m     name \u001b[38;5;129;01mnot\u001b[39;00m \u001b[38;5;129;01min\u001b[39;00m \u001b[38;5;28mself\u001b[39m\u001b[38;5;241m.\u001b[39m_internal_names_set\n\u001b[1;32m   6294\u001b[0m     \u001b[38;5;129;01mand\u001b[39;00m name \u001b[38;5;129;01mnot\u001b[39;00m \u001b[38;5;129;01min\u001b[39;00m \u001b[38;5;28mself\u001b[39m\u001b[38;5;241m.\u001b[39m_metadata\n\u001b[1;32m   6295\u001b[0m     \u001b[38;5;129;01mand\u001b[39;00m name \u001b[38;5;129;01mnot\u001b[39;00m \u001b[38;5;129;01min\u001b[39;00m \u001b[38;5;28mself\u001b[39m\u001b[38;5;241m.\u001b[39m_accessors\n\u001b[1;32m   6296\u001b[0m     \u001b[38;5;129;01mand\u001b[39;00m \u001b[38;5;28mself\u001b[39m\u001b[38;5;241m.\u001b[39m_info_axis\u001b[38;5;241m.\u001b[39m_can_hold_identifiers_and_holds_name(name)\n\u001b[1;32m   6297\u001b[0m ):\n\u001b[1;32m   6298\u001b[0m     \u001b[38;5;28;01mreturn\u001b[39;00m \u001b[38;5;28mself\u001b[39m[name]\n\u001b[0;32m-> 6299\u001b[0m \u001b[38;5;28;01mreturn\u001b[39;00m \u001b[38;5;28;43mobject\u001b[39;49m\u001b[38;5;241;43m.\u001b[39;49m\u001b[38;5;21;43m__getattribute__\u001b[39;49m\u001b[43m(\u001b[49m\u001b[38;5;28;43mself\u001b[39;49m\u001b[43m,\u001b[49m\u001b[43m \u001b[49m\u001b[43mname\u001b[49m\u001b[43m)\u001b[49m\n",
      "File \u001b[0;32m~/robogarden_modules/data_intro/.venv/lib/python3.12/site-packages/pandas/core/accessor.py:224\u001b[0m, in \u001b[0;36mCachedAccessor.__get__\u001b[0;34m(self, obj, cls)\u001b[0m\n\u001b[1;32m    221\u001b[0m \u001b[38;5;28;01mif\u001b[39;00m obj \u001b[38;5;129;01mis\u001b[39;00m \u001b[38;5;28;01mNone\u001b[39;00m:\n\u001b[1;32m    222\u001b[0m     \u001b[38;5;66;03m# we're accessing the attribute of the class, i.e., Dataset.geo\u001b[39;00m\n\u001b[1;32m    223\u001b[0m     \u001b[38;5;28;01mreturn\u001b[39;00m \u001b[38;5;28mself\u001b[39m\u001b[38;5;241m.\u001b[39m_accessor\n\u001b[0;32m--> 224\u001b[0m accessor_obj \u001b[38;5;241m=\u001b[39m \u001b[38;5;28;43mself\u001b[39;49m\u001b[38;5;241;43m.\u001b[39;49m\u001b[43m_accessor\u001b[49m\u001b[43m(\u001b[49m\u001b[43mobj\u001b[49m\u001b[43m)\u001b[49m\n\u001b[1;32m    225\u001b[0m \u001b[38;5;66;03m# Replace the property with the accessor object. Inspired by:\u001b[39;00m\n\u001b[1;32m    226\u001b[0m \u001b[38;5;66;03m# https://www.pydanny.com/cached-property.html\u001b[39;00m\n\u001b[1;32m    227\u001b[0m \u001b[38;5;66;03m# We need to use object.__setattr__ because we overwrite __setattr__ on\u001b[39;00m\n\u001b[1;32m    228\u001b[0m \u001b[38;5;66;03m# NDFrame\u001b[39;00m\n\u001b[1;32m    229\u001b[0m \u001b[38;5;28mobject\u001b[39m\u001b[38;5;241m.\u001b[39m\u001b[38;5;21m__setattr__\u001b[39m(obj, \u001b[38;5;28mself\u001b[39m\u001b[38;5;241m.\u001b[39m_name, accessor_obj)\n",
      "File \u001b[0;32m~/robogarden_modules/data_intro/.venv/lib/python3.12/site-packages/pandas/core/indexes/accessors.py:643\u001b[0m, in \u001b[0;36mCombinedDatetimelikeProperties.__new__\u001b[0;34m(cls, data)\u001b[0m\n\u001b[1;32m    640\u001b[0m \u001b[38;5;28;01melif\u001b[39;00m \u001b[38;5;28misinstance\u001b[39m(data\u001b[38;5;241m.\u001b[39mdtype, PeriodDtype):\n\u001b[1;32m    641\u001b[0m     \u001b[38;5;28;01mreturn\u001b[39;00m PeriodProperties(data, orig)\n\u001b[0;32m--> 643\u001b[0m \u001b[38;5;28;01mraise\u001b[39;00m \u001b[38;5;167;01mAttributeError\u001b[39;00m(\u001b[38;5;124m\"\u001b[39m\u001b[38;5;124mCan only use .dt accessor with datetimelike values\u001b[39m\u001b[38;5;124m\"\u001b[39m)\n",
      "\u001b[0;31mAttributeError\u001b[0m: Can only use .dt accessor with datetimelike values"
     ]
    }
   ],
   "source": [
    "movie_dates = pd.to_datetime(movie_ratings.timestamp, unit='D')\n",
    "print(movie_dates.head(5))\n",
    "\n",
    "\n",
    "def popularity_based_weighted_by_time(movies, n_movies=5):\n",
    "    top_movies = movie_ratings.sort_values(by='rating', axis=0, ascending=False)['title'].head(n_movies)\n",
    "    return top_movies\n"
   ]
  }
 ],
 "metadata": {
  "kernelspec": {
   "display_name": ".venv",
   "language": "python",
   "name": "python3"
  },
  "language_info": {
   "codemirror_mode": {
    "name": "ipython",
    "version": 3
   },
   "file_extension": ".py",
   "mimetype": "text/x-python",
   "name": "python",
   "nbconvert_exporter": "python",
   "pygments_lexer": "ipython3",
   "version": "3.12.7"
  }
 },
 "nbformat": 4,
 "nbformat_minor": 2
}

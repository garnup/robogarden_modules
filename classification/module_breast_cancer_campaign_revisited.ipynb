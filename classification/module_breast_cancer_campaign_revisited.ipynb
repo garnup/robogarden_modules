{
 "cells": [
  {
   "cell_type": "code",
   "execution_count": 95,
   "metadata": {},
   "outputs": [
    {
     "name": "stdout",
     "output_type": "stream",
     "text": [
      "Index(['radius_mean', 'texture_mean', 'perimeter_mean', 'area_mean',\n",
      "       'smoothness_mean', 'compactness_mean', 'concavity_mean',\n",
      "       'concave points_mean', 'symmetry_mean', 'fractal_dimension_mean',\n",
      "       'radius_se', 'texture_se', 'perimeter_se', 'area_se', 'smoothness_se',\n",
      "       'compactness_se', 'concavity_se', 'concave points_se', 'symmetry_se',\n",
      "       'fractal_dimension_se', 'radius_worst', 'texture_worst',\n",
      "       'perimeter_worst', 'area_worst', 'smoothness_worst',\n",
      "       'compactness_worst', 'concavity_worst', 'concave points_worst',\n",
      "       'symmetry_worst', 'fractal_dimension_worst', 'diagnosis'],\n",
      "      dtype='object')\n",
      "   radius_mean  texture_mean  perimeter_mean  area_mean  smoothness_mean  \\\n",
      "0     1.097064     -2.073335        1.269934   0.984375         1.568466   \n",
      "1     1.829821     -0.353632        1.685955   1.908708        -0.826962   \n",
      "2     1.579888      0.456187        1.566503   1.558884         0.942210   \n",
      "3    -0.768909      0.253732       -0.592687  -0.764464         3.283553   \n",
      "4     1.750297     -1.151816        1.776573   1.826229         0.280372   \n",
      "\n",
      "   compactness_mean  concavity_mean  concave points_mean  symmetry_mean  \\\n",
      "0          3.283515        2.652874             2.532475       2.217515   \n",
      "1         -0.487072       -0.023846             0.548144       0.001392   \n",
      "2          1.052926        1.363478             2.037231       0.939685   \n",
      "3          3.402909        1.915897             1.451707       2.867383   \n",
      "4          0.539340        1.371011             1.428493      -0.009560   \n",
      "\n",
      "   fractal_dimension_mean  ...  texture_worst  perimeter_worst  area_worst  \\\n",
      "0                2.255747  ...      -1.359293         2.303601    2.001237   \n",
      "1               -0.868652  ...      -0.369203         1.535126    1.890489   \n",
      "2               -0.398008  ...      -0.023974         1.347475    1.456285   \n",
      "3                4.910919  ...       0.133984        -0.249939   -0.550021   \n",
      "4               -0.562450  ...      -1.466770         1.338539    1.220724   \n",
      "\n",
      "   smoothness_worst  compactness_worst  concavity_worst  concave points_worst  \\\n",
      "0          1.307686           2.616665         2.109526              2.296076   \n",
      "1         -0.375612          -0.430444        -0.146749              1.087084   \n",
      "2          0.527407           1.082932         0.854974              1.955000   \n",
      "3          3.394275           3.893397         1.989588              2.175786   \n",
      "4          0.220556          -0.313395         0.613179              0.729259   \n",
      "\n",
      "   symmetry_worst  fractal_dimension_worst  diagnosis  \n",
      "0        2.750622                 1.937015          1  \n",
      "1       -0.243890                 0.281190          1  \n",
      "2        1.152255                 0.201391          1  \n",
      "3        6.046041                 4.935010          1  \n",
      "4       -0.868353                -0.397100          1  \n",
      "\n",
      "[5 rows x 31 columns]\n"
     ]
    }
   ],
   "source": [
    "import pandas as pd\n",
    "import numpy as np\n",
    "\n",
    "FILE = \"data_refined.csv\"\n",
    "\n",
    "df = pd.read_csv(FILE)\n",
    "\n",
    "print(df.columns)\n",
    "print(df.head(5))"
   ]
  },
  {
   "cell_type": "code",
   "execution_count": 96,
   "metadata": {},
   "outputs": [
    {
     "name": "stdout",
     "output_type": "stream",
     "text": [
      "area_mean               0.708984\n",
      "radius_mean             0.730029\n",
      "area_worst              0.733825\n",
      "perimeter_mean          0.742636\n",
      "radius_worst            0.776454\n",
      "concave points_mean     0.776614\n",
      "perimeter_worst         0.782914\n",
      "concave points_worst    0.793566\n",
      "diagnosis               1.000000\n",
      "dtype: float64\n"
     ]
    }
   ],
   "source": [
    "corrs = df.corrwith(df['diagnosis']).sort_values()\n",
    "high_corr_vals = corrs[corrs.values > 0.7] # here we pick very highly-correlated values only\n",
    "print(high_corr_vals)"
   ]
  },
  {
   "cell_type": "code",
   "execution_count": 97,
   "metadata": {},
   "outputs": [
    {
     "name": "stdout",
     "output_type": "stream",
     "text": [
      "   area_mean  radius_mean  area_worst  perimeter_mean  radius_worst  \\\n",
      "0   0.984375     1.097064    2.001237        1.269934      1.886690   \n",
      "1   1.908708     1.829821    1.890489        1.685955      1.805927   \n",
      "2   1.558884     1.579888    1.456285        1.566503      1.511870   \n",
      "3  -0.764464    -0.768909   -0.550021       -0.592687     -0.281464   \n",
      "4   1.826229     1.750297    1.220724        1.776573      1.298575   \n",
      "\n",
      "   concave points_mean  perimeter_worst  concave points_worst  diagnosis  \n",
      "0             2.532475         2.303601              2.296076          1  \n",
      "1             0.548144         1.535126              1.087084          1  \n",
      "2             2.037231         1.347475              1.955000          1  \n",
      "3             1.451707        -0.249939              2.175786          1  \n",
      "4             1.428493         1.338539              0.729259          1  \n"
     ]
    }
   ],
   "source": [
    "df_hc = df[high_corr_vals.index]\n",
    "print(df_hc.head(5)) # dataframe of highly correlated features"
   ]
  },
  {
   "cell_type": "code",
   "execution_count": 98,
   "metadata": {},
   "outputs": [
    {
     "name": "stdout",
     "output_type": "stream",
     "text": [
      "Training data set size:  455\n",
      "Validation data set size:  57\n",
      "Testing data set size:  57\n"
     ]
    }
   ],
   "source": [
    "from sklearn.model_selection import train_test_split\n",
    "data_train, data_valid_test = train_test_split(df_hc, test_size=0.2, random_state=0)\n",
    "data_valid, data_test = train_test_split(data_valid_test, test_size=0.5, random_state=0)\n",
    "target='diagnosis'\n",
    "print(\"Training data set size: \", len(data_train.index))\n",
    "print(\"Validation data set size: \", len(data_valid.index))\n",
    "print(\"Testing data set size: \", len(data_test.index))\n",
    "y_train = data_train[target]\n",
    "x_train = data_train.drop(target, axis=1)\n",
    "y_valid = data_valid[target]\n",
    "x_valid = data_valid.drop(target, axis=1)\n",
    "y_test = data_test[target]\n",
    "x_test = data_test.drop(target, axis=1)\n"
   ]
  },
  {
   "cell_type": "code",
   "execution_count": 99,
   "metadata": {},
   "outputs": [
    {
     "name": "stdout",
     "output_type": "stream",
     "text": [
      "The best KNN classifier had score = 0.964912 with n_neighbors = 12\n"
     ]
    },
    {
     "name": "stdout",
     "output_type": "stream",
     "text": [
      "The best Random Forest classifier had score = 1.000000 with n_estimators = 3 and max_depth = 4\n",
      "The best Support Vector Machine classifier had score = 0.947368 with kernel = sigmoid\n"
     ]
    }
   ],
   "source": [
    "from sklearn.neighbors import KNeighborsClassifier\n",
    "from sklearn.ensemble import RandomForestClassifier\n",
    "from sklearn.svm import SVC\n",
    "\n",
    "def hyperparam_grid_search(x_train, x_valid, y_train, y_valid):\n",
    "    best_score = 0\n",
    "    best_knn = None\n",
    "    best_n = 0\n",
    "    for n in range(1,16):\n",
    "        knn = KNeighborsClassifier(n_neighbors=n).fit(x_train, y_train)\n",
    "        score = knn.score(x_valid, y_valid)\n",
    "        if score > best_score:\n",
    "            best_score, best_knn, best_n = score, knn, n\n",
    "\n",
    "    print(\"The best KNN classifier had score = %f with n_neighbors = %d\"%(best_score, best_n))\n",
    "\n",
    "    best_score = 0\n",
    "    best_rfc = None\n",
    "    best_n = 0\n",
    "    best_depth = 0\n",
    "    for n in range(1,16):\n",
    "        for d in range(1,20):\n",
    "            rfc = RandomForestClassifier(n_estimators=n, max_depth=d).fit(x_train, y_train)\n",
    "            score = rfc.score(x_valid, y_valid)\n",
    "            if score > best_score:\n",
    "                best_score, best_rfc, best_n, best_depth = score, rfc, n, d\n",
    "\n",
    "    print(\"The best Random Forest classifier had score = %f with n_estimators = %d and max_depth = %d\"%(best_score, best_n, best_depth))\n",
    "\n",
    "    kernels = {'linear', 'poly', 'rbf', 'sigmoid', 'precomputed'}\n",
    "    best_score = 0\n",
    "    best_svm = None\n",
    "    best_kernel = None\n",
    "    for kernel in kernels:\n",
    "        svm = SVC().fit(x_train, y_train)\n",
    "        score = svm.score(x_valid, y_valid)\n",
    "        if score > best_score:\n",
    "            best_score, best_svm, best_kernel = score, svm, kernel\n",
    "\n",
    "    print(\"The best Support Vector Machine classifier had score = %f with kernel = %s\"%(best_score, best_kernel))\n",
    "    return best_knn, best_rfc, best_svm\n",
    "\n",
    "best_knn, best_rfc, best_svm = hyperparam_grid_search(x_train, x_valid, y_train, y_valid)\n"
   ]
  },
  {
   "cell_type": "code",
   "execution_count": 100,
   "metadata": {},
   "outputs": [
    {
     "data": {
      "text/plain": [
       "Text(0.5, 1.0, 'KNN Classifier Confusion Matrix')"
      ]
     },
     "execution_count": 100,
     "metadata": {},
     "output_type": "execute_result"
    },
    {
     "data": {
      "image/png": "[encoded data removed]",
      "text/plain": [
       "<Figure size 640x480 with 2 Axes>"
      ]
     },
     "metadata": {},
     "output_type": "display_data"
    }
   ],
   "source": [
    "from sklearn.metrics import confusion_matrix, ConfusionMatrixDisplay\n",
    "y_pred = best_knn.predict(x_test)\n",
    "fig = ConfusionMatrixDisplay(confusion_matrix=confusion_matrix(y_test, y_pred))\n",
    "fig.plot()\n",
    "fig.ax_.set_title(\"KNN Classifier Confusion Matrix\")"
   ]
  },
  {
   "cell_type": "code",
   "execution_count": 101,
   "metadata": {},
   "outputs": [
    {
     "data": {
      "text/plain": [
       "Text(0.5, 1.0, 'Random Forest Classifier Confusion Matrix')"
      ]
     },
     "execution_count": 101,
     "metadata": {},
     "output_type": "execute_result"
    },
    {
     "data": {
      "image/png": "[encoded data removed]",
      "text/plain": [
       "<Figure size 640x480 with 2 Axes>"
      ]
     },
     "metadata": {},
     "output_type": "display_data"
    }
   ],
   "source": [
    "y_pred = best_rfc.predict(x_test)\n",
    "fig = ConfusionMatrixDisplay(confusion_matrix=confusion_matrix(y_test, y_pred))\n",
    "fig.plot()\n",
    "fig.ax_.set_title(\"Random Forest Classifier Confusion Matrix\")"
   ]
  },
  {
   "cell_type": "code",
   "execution_count": 102,
   "metadata": {},
   "outputs": [
    {
     "data": {
      "text/plain": [
       "Text(0.5, 1.0, 'SVM Classifier Confusion Matrix')"
      ]
     },
     "execution_count": 102,
     "metadata": {},
     "output_type": "execute_result"
    },
    {
     "data": {
      "image/png": "[encoded data removed]",
      "text/plain": [
       "<Figure size 640x480 with 2 Axes>"
      ]
     },
     "metadata": {},
     "output_type": "display_data"
    }
   ],
   "source": [
    "y_pred = best_svm.predict(x_test)\n",
    "fig = ConfusionMatrixDisplay(confusion_matrix=confusion_matrix(y_test, y_pred))\n",
    "fig.plot()\n",
    "fig.ax_.set_title(\"SVM Classifier Confusion Matrix\")"
   ]
  },
  {
   "cell_type": "code",
   "execution_count": 103,
   "metadata": {},
   "outputs": [
    {
     "name": "stdout",
     "output_type": "stream",
     "text": [
      "The best KNN Classifier test score is:  0.9649122807017544\n",
      "The best Random Forest Classifier test score is:  0.9649122807017544\n",
      "The best SVM Classifier test score is:  0.9649122807017544\n"
     ]
    }
   ],
   "source": [
    "def print_test_scores(best_knn, best_rfc, best_svm):\n",
    "    score_knn = best_knn.score(x_test, y_test)\n",
    "    score_rfc = best_rfc.score(x_test, y_test)\n",
    "    score_svm = best_svm.score(x_test, y_test)\n",
    "\n",
    "    print(\"The best KNN Classifier test score is: \", score_knn)\n",
    "    print(\"The best Random Forest Classifier test score is: \", score_rfc)\n",
    "    print(\"The best SVM Classifier test score is: \", score_svm)\n",
    "\n",
    "print_test_scores(best_knn, best_rfc, best_svm)"
   ]
  },
  {
   "cell_type": "code",
   "execution_count": 104,
   "metadata": {},
   "outputs": [
    {
     "name": "stdout",
     "output_type": "stream",
     "text": [
      "area_mean               0.708984\n",
      "combination_feature     0.718294\n",
      "radius_mean             0.730029\n",
      "area_worst              0.733825\n",
      "perimeter_mean          0.742636\n",
      "radius_worst            0.776454\n",
      "concave points_mean     0.776614\n",
      "perimeter_worst         0.782914\n",
      "concave points_worst    0.793566\n",
      "diagnosis               1.000000\n",
      "dtype: float64\n"
     ]
    }
   ],
   "source": [
    "''' For feature engineering, I'm going to take \"mid-value\" correlations between 0.2 and 0.7\n",
    "and then sum those features, using their correlation values as weights. Hopefully, the resulting\n",
    "\"combination_feature\" will be a useful feature\n",
    "'''\n",
    "corrs = df.corrwith(df['diagnosis'])\n",
    "mid_corrs = corrs[(corrs.values > 0.2) & (corrs.values <= 0.7)]\n",
    "corr_weights = mid_corrs / mid_corrs.sum()\n",
    "df_mc = pd.DataFrame(df[mid_corrs.index])\n",
    "for column in corr_weights.index:\n",
    "    df_mc[column] = df_mc[column]*corr_weights[column]\n",
    "sum_mc = df_mc.sum(axis='columns')\n",
    "sum_mc.name = 'combination_feature'\n",
    "df_new = pd.concat([df_hc, sum_mc], axis=1)\n",
    "print(df_new.corrwith(df_new['diagnosis']).sort_values())"
   ]
  },
  {
   "cell_type": "code",
   "execution_count": 105,
   "metadata": {},
   "outputs": [
    {
     "name": "stdout",
     "output_type": "stream",
     "text": [
      "The best KNN classifier had score = 0.947368 with n_neighbors = 2\n"
     ]
    },
    {
     "name": "stdout",
     "output_type": "stream",
     "text": [
      "The best Random Forest classifier had score = 1.000000 with n_estimators = 13 and max_depth = 3\n",
      "The best Support Vector Machine classifier had score = 0.947368 with kernel = sigmoid\n"
     ]
    }
   ],
   "source": [
    "data_train, data_valid_test = train_test_split(df_new, test_size=0.2, random_state=0)\n",
    "data_valid, data_test = train_test_split(data_valid_test, test_size=0.5, random_state=0)\n",
    "target='diagnosis'\n",
    "y_train = data_train[target]\n",
    "x_train = data_train.drop(target, axis=1)\n",
    "y_valid = data_valid[target]\n",
    "x_valid = data_valid.drop(target, axis=1)\n",
    "y_test = data_test[target]\n",
    "x_test = data_test.drop(target, axis=1)\n",
    "\n",
    "best_knn, best_rfc, best_svm = hyperparam_grid_search(x_train, x_valid, y_train, y_valid)"
   ]
  },
  {
   "cell_type": "code",
   "execution_count": 106,
   "metadata": {},
   "outputs": [
    {
     "name": "stdout",
     "output_type": "stream",
     "text": [
      "The best KNN Classifier test score is:  0.9473684210526315\n",
      "The best Random Forest Classifier test score is:  0.9649122807017544\n",
      "The best SVM Classifier test score is:  0.9473684210526315\n"
     ]
    }
   ],
   "source": [
    "print_test_scores(best_knn, best_rfc, best_svm)"
   ]
  },
  {
   "cell_type": "code",
   "execution_count": null,
   "metadata": {},
   "outputs": [],
   "source": [
    "''' Despite it's rather high correlation with the target, the new combination_feature doesn't seem to improve\n",
    "the accuracy of the prediction results. The lower-correlation values are likely just a bit too \"noisy\"\n",
    "'''"
   ]
  }
 ],
 "metadata": {
  "kernelspec": {
   "display_name": ".venv",
   "language": "python",
   "name": "python3"
  },
  "language_info": {
   "codemirror_mode": {
    "name": "ipython",
    "version": 3
   },
   "file_extension": ".py",
   "mimetype": "text/x-python",
   "name": "python",
   "nbconvert_exporter": "python",
   "pygments_lexer": "ipython3",
   "version": "3.12.7"
  }
 },
 "nbformat": 4,
 "nbformat_minor": 2
}

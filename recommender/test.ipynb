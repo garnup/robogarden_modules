{
 "cells": [
  {
   "cell_type": "code",
   "execution_count": null,
   "metadata": {},
   "outputs": [
    {
     "name": "stdout",
     "output_type": "stream",
     "text": [
      "  id one     two   three\n",
      "0  1   2     foo     bar\n",
      "1  2  12      kj  9098ik\n",
      "2  3  23  kajsdf    bjjk\n",
      "  one   title\n",
      "0   1  title1\n",
      "1   2  title2\n",
      "2   3  title3\n",
      "3   4  title4\n",
      "4  12  title1\n",
      "5  23  title2\n",
      "\n",
      "  id one     two   three   title\n",
      "0  1   2     foo     bar  title2\n",
      "1  2  12      kj  9098ik  title1\n",
      "2  3  23  kajsdf    bjjk  title2\n"
     ]
    }
   ],
   "source": [
    "import pandas as pd\n",
    "import numpy as np\n",
    "\n",
    "\n",
    "left = np.array([[1, 2, 'foo', 'bar'], [2, 12, 'kj', '9098ik'], [1, 2, 'foo', 'bar']])\n",
    "df_left = pd.DataFrame(left, columns=['id', 'one', 'two', 'three'])\n",
    "\n",
    "right = np.array([[1, 'title1'], [2, 'title2'], [3, 'title3'], [4, 'title4'], [12, 'title1'], [23, 'title2']])\n",
    "df_right = pd.DataFrame(right, columns=['one', 'title'])\n",
    "print(df_left)\n",
    "print(df_right)\n",
    "\n",
    "\n",
    "print()\n",
    "\n",
    "df_merge = pd.merge(df_left, df_right, on='one', how='left')\n",
    "print(df_merge)"
   ]
  },
  {
   "cell_type": "code",
   "execution_count": 9,
   "metadata": {},
   "outputs": [
    {
     "name": "stdout",
     "output_type": "stream",
     "text": [
      "title  title1 title2\n",
      "id                  \n",
      "1         NaN    bar\n",
      "2      9098ik    NaN\n",
      "3         NaN   bjjk\n"
     ]
    }
   ],
   "source": [
    "df_p = df_merge.pivot(index='id', columns='title', values='three')\n",
    "print(df_p)"
   ]
  }
 ],
 "metadata": {
  "kernelspec": {
   "display_name": ".venv",
   "language": "python",
   "name": "python3"
  },
  "language_info": {
   "codemirror_mode": {
    "name": "ipython",
    "version": 3
   },
   "file_extension": ".py",
   "mimetype": "text/x-python",
   "name": "python",
   "nbconvert_exporter": "python",
   "pygments_lexer": "ipython3",
   "version": "3.12.7"
  }
 },
 "nbformat": 4,
 "nbformat_minor": 2
}

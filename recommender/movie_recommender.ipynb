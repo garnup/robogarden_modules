{
 "cells": [
  {
   "cell_type": "markdown",
   "metadata": {},
   "source": [
    "Steps\n",
    " \n",
    "1. Popularity-Based Recommendation\n",
    "• Recommend top movies based on the average rating.\n",
    "def  popurality_based(full_movies, n=number of movies to return) -> list of n movie names\n",
    "2. Collaborative Filtering\n",
    "• User-Based: Find similar users and recommend movies they liked.\n",
    "• Item-Based: Recommend movies similar to those a user has already rated highly.\n",
    "def colobrative_filtering(full_movies, n=number of movies to return, type=’user’)\n",
    "3. Content-Based Filtering\n",
    "• Recommend movies based on the similarity of their genres.\n",
    "Def content_based_filtering(full_movies, n: number of movies to recommend) -> list of n movie names\n",
    " \n",
    "4. Hybrid Recommendation\n",
    "• Combine the above methods (e.g., weighted average of scores from collaborative filtering and content-based methods).\n",
    "Def hybrid_filtering(full_movies, n: number of movies to recommend) -> list of n movie names"
   ]
  },
  {
   "cell_type": "code",
   "execution_count": 5,
   "metadata": {},
   "outputs": [
    {
     "name": "stdout",
     "output_type": "stream",
     "text": [
      "   movieId                    title  \\\n",
      "0        1         Toy Story (1995)   \n",
      "1        2           Jumanji (1995)   \n",
      "2        3  Grumpier Old Men (1995)   \n",
      "\n",
      "                                        genres  \n",
      "0  Adventure|Animation|Children|Comedy|Fantasy  \n",
      "1                   Adventure|Children|Fantasy  \n",
      "2                               Comedy|Romance  \n",
      "   userId  movieId  rating  timestamp\n",
      "0       1        1     4.0  964982703\n",
      "1       1        3     4.0  964981247\n",
      "2       1        6     4.0  964982224\n",
      "\n",
      "   userId  movieId  rating  timestamp                        title  \\\n",
      "0       1        1     4.0  964982703             Toy Story (1995)   \n",
      "1       1        3     4.0  964981247      Grumpier Old Men (1995)   \n",
      "2       1        6     4.0  964982224                  Heat (1995)   \n",
      "3       1       47     5.0  964983815  Seven (a.k.a. Se7en) (1995)   \n",
      "4       1       50     5.0  964982931   Usual Suspects, The (1995)   \n",
      "\n",
      "                                        genres  \n",
      "0  Adventure|Animation|Children|Comedy|Fantasy  \n",
      "1                               Comedy|Romance  \n",
      "2                        Action|Crime|Thriller  \n",
      "3                             Mystery|Thriller  \n",
      "4                       Crime|Mystery|Thriller  \n"
     ]
    }
   ],
   "source": [
    "import pandas as pd\n",
    "pd.set_option('future.no_silent_downcasting', True)\n",
    "\n",
    "df_movies = pd.read_excel('movies.xlsx')\n",
    "df_ratings = pd.read_excel('ratings.xlsx')\n",
    "df_tags = pd.read_excel('tags.xlsx')\n",
    "\n",
    "print(df_movies.head(3))\n",
    "df_movies = df_movies.drop_duplicates()\n",
    "print(df_ratings.head(3))\n",
    "df_ratings = df_ratings.drop_duplicates()\n",
    "print()\n",
    "df_tags = df_tags.drop_duplicates()\n",
    "movie_ratings = pd.merge(df_ratings, df_movies, on='movieId', how='left')\n",
    "print(movie_ratings.head(5))"
   ]
  },
  {
   "cell_type": "code",
   "execution_count": 6,
   "metadata": {},
   "outputs": [
    {
     "name": "stdout",
     "output_type": "stream",
     "text": [
      "34031                 Green Mile, The (1999)\n",
      "50717    Monty Python's Life of Brian (1979)\n",
      "18166                  Lightning Jack (1994)\n",
      "18165                   Jurassic Park (1993)\n",
      "76157               Flamingo Kid, The (1984)\n",
      "Name: title, dtype: object\n"
     ]
    }
   ],
   "source": [
    "def popularity_based(movie_ratings, n_movies=5):\n",
    "    top_movies = movie_ratings.sort_values(by='rating', axis=0, ascending=False)['title'].head(n_movies)\n",
    "    return top_movies\n",
    "\n",
    "top_movies = popularity_based(movie_ratings, n_movies=5)\n",
    "print(top_movies)"
   ]
  },
  {
   "cell_type": "code",
   "execution_count": 7,
   "metadata": {},
   "outputs": [
    {
     "name": "stdout",
     "output_type": "stream",
     "text": [
      "            0     1      2      3      4\n",
      "userId                                  \n",
      "1       73017  8533  49772  45668  81845\n",
      "2         339    50    590    150     62\n",
      "3        3421  1663   1194   1210    420\n"
     ]
    }
   ],
   "source": [
    "from sklearn.metrics.pairwise import pairwise_distances\n",
    "import numpy as np\n",
    "\n",
    "def collaborative_user_based(movie_ratings, n_movies=5):\n",
    "    user_ratings = movie_ratings.pivot_table(index='userId', columns='movieId', values='rating', fill_value=0)\n",
    "    distances = pairwise_distances(user_ratings, metric='cosine')\n",
    "    closest_user_indices = np.argsort(distances, axis=1)[:,-3:-2]\n",
    "    closest_users = user_ratings.iloc[closest_user_indices.ravel()]\n",
    "    recommended_movie_indices = closest_users.values.argsort(axis=1)[:,-n_movies:]\n",
    "    closest_user_movies = pd.DataFrame(user_ratings.columns.to_numpy()[recommended_movie_indices], index=user_ratings.index)\n",
    "    return closest_user_movies\n",
    "\n",
    "rec_collab_user_movies = collaborative_user_based(movie_ratings, n_movies=5)\n",
    "print(rec_collab_user_movies.head(3))"
   ]
  },
  {
   "cell_type": "code",
   "execution_count": 8,
   "metadata": {},
   "outputs": [
    {
     "name": "stdout",
     "output_type": "stream",
     "text": [
      "             0      1      2      3      4\n",
      "movieId                                   \n",
      "1        26554   3544  92637  92730  92760\n",
      "2         5979   5975  98604   5974   5969\n",
      "3        26171  26169  26158  26151  26150\n"
     ]
    }
   ],
   "source": [
    "def collaborative_item_based(movie_ratings, n_movies=5):\n",
    "    movie_ratings_user = movie_ratings.pivot_table(index='movieId', columns='userId', values='rating', fill_value=0)\n",
    "    distances = pairwise_distances(movie_ratings_user, metric='cosine')\n",
    "    closest_movie_indices = np.argsort(distances, axis=1)[:,(-n_movies-2):-2]\n",
    "    closest_movies = pd.DataFrame(movie_ratings_user.index.to_numpy()[closest_movie_indices], index=movie_ratings_user.index)\n",
    "    return closest_movies\n",
    "\n",
    "rec_collab_item_movies = collaborative_item_based(movie_ratings, n_movies=5)\n",
    "print(rec_collab_item_movies.head(3))"
   ]
  },
  {
   "cell_type": "code",
   "execution_count": null,
   "metadata": {},
   "outputs": [
    {
     "name": "stdout",
     "output_type": "stream",
     "text": [
      "             0      1      2      3     4\n",
      "movieId                                  \n",
      "1         2076  52967  52952   5390  5391\n",
      "2         4936   4939   4942   4945  4946\n",
      "3        44397  44301   3736   3737  3738\n",
      "4         1999   1998  55156  55167  1997\n",
      "5        27722  27721   3173  27708  3176\n"
     ]
    }
   ],
   "source": [
    "from sklearn.feature_extraction.text import CountVectorizer\n",
    "\n",
    "def content_based(movies, n_movies=5):\n",
    "    genres_vectors = CountVectorizer().fit_transform(movies.genres)\n",
    "    distances = pairwise_distances(genres_vectors, metric='cosine')\n",
    "    closest_movie_indices = np.argsort(distances, axis=1)[:,(-n_movies-2):-2]\n",
    "    closest_movies = pd.DataFrame(movies.movieId.to_numpy()[closest_movie_indices], index=movies.movieId)\n",
    "    return closest_movies\n",
    "\n",
    "rec_content_movies = content_based(df_movies, n_movies=5)\n",
    "print(rec_content_movies.head(5))"
   ]
  },
  {
   "cell_type": "code",
   "execution_count": 10,
   "metadata": {},
   "outputs": [
    {
     "name": "stdout",
     "output_type": "stream",
     "text": [
      "0   2000-07-30 18:45:03\n",
      "1   2000-07-30 18:20:47\n",
      "2   2000-07-30 18:37:04\n",
      "3   2000-07-30 19:03:35\n",
      "4   2000-07-30 18:48:51\n",
      "5   2000-07-30 18:40:00\n",
      "6   2000-07-30 18:14:28\n",
      "7   2000-07-30 18:36:16\n",
      "8   2000-07-30 19:07:21\n",
      "9   2000-07-30 19:08:20\n",
      "Name: timestamp, dtype: datetime64[ns]\n"
     ]
    }
   ],
   "source": [
    "movie_dates = pd.to_datetime(movie_ratings.timestamp, unit='s', origin='unix')\n",
    "print(movie_dates.head(10))\n",
    "\n",
    "\n",
    "def popularity_based_weighted_by_time(movies, n_movies=5):\n",
    "    top_movies = movie_ratings.sort_values(by='rating', axis=0, ascending=False)['title'].head(n_movies)\n",
    "    return top_movies\n"
   ]
  },
  {
   "cell_type": "code",
   "execution_count": null,
   "metadata": {},
   "outputs": [
    {
     "name": "stdout",
     "output_type": "stream",
     "text": [
      "(9724, 610)\n",
      "(100836, 24)\n"
     ]
    },
    {
     "ename": "ValueError",
     "evalue": "all the input arrays must have same number of dimensions, but the array at index 0 has 2 dimension(s) and the array at index 1 has 0 dimension(s)",
     "output_type": "error",
     "traceback": [
      "\u001b[0;31m---------------------------------------------------------------------------\u001b[0m",
      "\u001b[0;31mValueError\u001b[0m                                Traceback (most recent call last)",
      "Cell \u001b[0;32mIn[20], line 12\u001b[0m\n\u001b[1;32m      9\u001b[0m     closest_movies \u001b[38;5;241m=\u001b[39m pd\u001b[38;5;241m.\u001b[39mDataFrame(movies\u001b[38;5;241m.\u001b[39mmovieId\u001b[38;5;241m.\u001b[39mto_numpy()[closest_movie_indices], index\u001b[38;5;241m=\u001b[39mmovies\u001b[38;5;241m.\u001b[39mmovieId)\n\u001b[1;32m     10\u001b[0m     \u001b[38;5;28;01mreturn\u001b[39;00m closest_movies\n\u001b[0;32m---> 12\u001b[0m rec_hybrid_movies \u001b[38;5;241m=\u001b[39m \u001b[43mhybrid_filtering\u001b[49m\u001b[43m(\u001b[49m\u001b[43mmovie_ratings\u001b[49m\u001b[43m,\u001b[49m\u001b[43m \u001b[49m\u001b[43mn_movies\u001b[49m\u001b[38;5;241;43m=\u001b[39;49m\u001b[38;5;241;43m5\u001b[39;49m\u001b[43m)\u001b[49m\n\u001b[1;32m     13\u001b[0m \u001b[38;5;28mprint\u001b[39m(rec_hybrid_movies\u001b[38;5;241m.\u001b[39mhead(\u001b[38;5;241m5\u001b[39m))\n",
      "Cell \u001b[0;32mIn[20], line 6\u001b[0m, in \u001b[0;36mhybrid_filtering\u001b[0;34m(movie_ratings, n_movies)\u001b[0m\n\u001b[1;32m      4\u001b[0m \u001b[38;5;28mprint\u001b[39m(movie_ratings_user\u001b[38;5;241m.\u001b[39mshape)\n\u001b[1;32m      5\u001b[0m \u001b[38;5;28mprint\u001b[39m(genres_vectors\u001b[38;5;241m.\u001b[39mshape)\n\u001b[0;32m----> 6\u001b[0m combined_arr \u001b[38;5;241m=\u001b[39m \u001b[43mnp\u001b[49m\u001b[38;5;241;43m.\u001b[39;49m\u001b[43mconcat\u001b[49m\u001b[43m(\u001b[49m\u001b[43m(\u001b[49m\u001b[43mmovie_ratings_user\u001b[49m\u001b[38;5;241;43m.\u001b[39;49m\u001b[43mto_numpy\u001b[49m\u001b[43m(\u001b[49m\u001b[43m)\u001b[49m\u001b[43m,\u001b[49m\u001b[43m \u001b[49m\u001b[43mgenres_vectors\u001b[49m\u001b[43m)\u001b[49m\u001b[43m,\u001b[49m\u001b[43m \u001b[49m\u001b[43maxis\u001b[49m\u001b[38;5;241;43m=\u001b[39;49m\u001b[38;5;241;43m1\u001b[39;49m\u001b[43m)\u001b[49m\n\u001b[1;32m      7\u001b[0m distances \u001b[38;5;241m=\u001b[39m pairwise_distances(combined_arr, metric\u001b[38;5;241m=\u001b[39m\u001b[38;5;124m'\u001b[39m\u001b[38;5;124mcosine\u001b[39m\u001b[38;5;124m'\u001b[39m)\n\u001b[1;32m      8\u001b[0m closest_movie_indices \u001b[38;5;241m=\u001b[39m np\u001b[38;5;241m.\u001b[39margsort(distances, axis\u001b[38;5;241m=\u001b[39m\u001b[38;5;241m1\u001b[39m)[:,(\u001b[38;5;241m-\u001b[39mn_movies\u001b[38;5;241m-\u001b[39m\u001b[38;5;241m2\u001b[39m):\u001b[38;5;241m-\u001b[39m\u001b[38;5;241m2\u001b[39m]\n",
      "\u001b[0;31mValueError\u001b[0m: all the input arrays must have same number of dimensions, but the array at index 0 has 2 dimension(s) and the array at index 1 has 0 dimension(s)"
     ]
    }
   ],
   "source": [
    "def hybrid_filtering(movie_ratings, n_movies=5):\n",
    "    movie_ratings_user = movie_ratings.pivot_table(index='movieId', columns='userId', values='rating', fill_value=0)\n",
    "    movie_genres = movie_ratings.pivot_table(index='movieId', columns='title', values='genres', fill_value='')\n",
    "    genres_vectors = CountVectorizer().fit_transform(movie_genres)\n",
    "    print(movie_ratings_user.shape)\n",
    "    print(genres_vectors.shape)\n",
    "    combined_arr = np.concat((movie_ratings_user.to_numpy(), genres_vectors), axis=1)\n",
    "    distances = pairwise_distances(combined_arr, metric='cosine')\n",
    "    closest_movie_indices = np.argsort(distances, axis=1)[:,(-n_movies-2):-2]\n",
    "    closest_movies = pd.DataFrame(movies.movieId.to_numpy()[closest_movie_indices], index=movies.movieId)\n",
    "    return closest_movies\n",
    "\n",
    "rec_hybrid_movies = hybrid_filtering(movie_ratings, n_movies=5)\n",
    "print(rec_hybrid_movies.head(5))\n"
   ]
  }
 ],
 "metadata": {
  "kernelspec": {
   "display_name": ".venv",
   "language": "python",
   "name": "python3"
  },
  "language_info": {
   "codemirror_mode": {
    "name": "ipython",
    "version": 3
   },
   "file_extension": ".py",
   "mimetype": "text/x-python",
   "name": "python",
   "nbconvert_exporter": "python",
   "pygments_lexer": "ipython3",
   "version": "3.12.7"
  }
 },
 "nbformat": 4,
 "nbformat_minor": 2
}

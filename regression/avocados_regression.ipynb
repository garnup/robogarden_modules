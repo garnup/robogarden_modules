{
 "cells": [
  {
   "cell_type": "code",
   "execution_count": 1,
   "metadata": {},
   "outputs": [
    {
     "name": "stdout",
     "output_type": "stream",
     "text": [
      "   AveragePrice  Total Volume     4046       4225    4770  Total Bags  \\\n",
      "0          1.33      64236.62  1036.74   54454.85   48.16     8696.87   \n",
      "1          1.35      54876.98   674.28   44638.81   58.33     9505.56   \n",
      "2          0.93     118220.22   794.70  109149.67  130.50     8145.35   \n",
      "3          1.08      78992.15  1132.00   71976.41   72.58     5811.16   \n",
      "4          1.28      51039.60   941.48   43838.39   75.78     6183.95   \n",
      "\n",
      "   Small Bags  Large Bags  XLarge Bags          type  year  \n",
      "0     8603.62       93.25          0.0  conventional  2015  \n",
      "1     9408.07       97.49          0.0  conventional  2015  \n",
      "2     8042.21      103.14          0.0  conventional  2015  \n",
      "3     5677.40      133.76          0.0  conventional  2015  \n",
      "4     5986.26      197.69          0.0  conventional  2015  \n"
     ]
    }
   ],
   "source": [
    "import pandas as pd\n",
    "import numpy as np\n",
    "import matplotlib.pyplot as plt\n",
    "\n",
    "FILE=\"avocado.csv\"\n",
    "\n",
    "df = pd.read_csv(FILE)\n",
    "df = df.drop('region', axis=1)\n",
    "df = df.drop('Date', axis=1)\n",
    "df = df.drop('Unnamed: 0', axis=1)\n",
    "print(df.head(5))"
   ]
  },
  {
   "cell_type": "code",
   "execution_count": 2,
   "metadata": {},
   "outputs": [
    {
     "name": "stdout",
     "output_type": "stream",
     "text": [
      "AveragePrice    0\n",
      "Total Volume    0\n",
      "4046            0\n",
      "4225            0\n",
      "4770            0\n",
      "Total Bags      0\n",
      "Small Bags      0\n",
      "Large Bags      0\n",
      "XLarge Bags     0\n",
      "type            0\n",
      "year            0\n",
      "dtype: int64\n"
     ]
    }
   ],
   "source": [
    "print(df.isna().sum())"
   ]
  },
  {
   "cell_type": "code",
   "execution_count": 3,
   "metadata": {},
   "outputs": [
    {
     "name": "stdout",
     "output_type": "stream",
     "text": [
      "type\n",
      "conventional    9126\n",
      "organic         9123\n",
      "Name: count, dtype: int64\n"
     ]
    }
   ],
   "source": [
    "print(df['type'].value_counts())"
   ]
  },
  {
   "cell_type": "code",
   "execution_count": 8,
   "metadata": {},
   "outputs": [
    {
     "name": "stdout",
     "output_type": "stream",
     "text": [
      "   AveragePrice  Total Volume      4046      4225      4770  Total Bags  \\\n",
      "0     -0.188689     -0.227716 -0.230816 -0.199902 -0.212091   -0.234170   \n",
      "1     -0.139020     -0.230427 -0.231103 -0.208054 -0.211997   -0.233350   \n",
      "2     -1.182069     -0.212085 -0.231007 -0.154478 -0.211325   -0.234730   \n",
      "3     -0.809551     -0.223444 -0.230741 -0.185350 -0.211864   -0.237096   \n",
      "4     -0.312861     -0.231538 -0.230891 -0.208719 -0.211834   -0.236718   \n",
      "\n",
      "   Small Bags  Large Bags  XLarge Bags      year  type  \n",
      "0   -0.232647   -0.222352     -0.17558 -1.221282     0  \n",
      "1   -0.231568   -0.222335     -0.17558 -1.221282     0  \n",
      "2   -0.233399   -0.222311     -0.17558 -1.221282     0  \n",
      "3   -0.236568   -0.222186     -0.17558 -1.221282     0  \n",
      "4   -0.236154   -0.221924     -0.17558 -1.221282     0  \n"
     ]
    }
   ],
   "source": [
    "from sklearn.preprocessing import StandardScaler\n",
    "scaler = StandardScaler()\n",
    "scaled_cols = df.columns.to_list()\n",
    "scaled_cols.remove('type')\n",
    "df_scaled = pd.DataFrame(scaler.fit_transform(df[scaled_cols].to_numpy()), columns=scaled_cols)\n",
    "df_scaled['type'] = df['type'].apply(lambda x: 1 if (x=='organic') else 0)\n",
    "print(df_scaled.head(5))"
   ]
  },
  {
   "cell_type": "code",
   "execution_count": 19,
   "metadata": {},
   "outputs": [],
   "source": [
    "from sklearn.model_selection import train_test_split\n",
    "df_train, df_valid_test = train_test_split(df_scaled, test_size=0.2, random_state=42)\n",
    "df_valid, df_test = train_test_split(df_valid_test, test_size=0.5, random_state=42)\n",
    "\n",
    "target = 'AveragePrice'\n",
    "y_train, y_valid, y_test = df_train[target], df_valid[target], df_test[target]\n",
    "X_train, X_valid, X_test = df_train.drop(target, axis=1), df_valid.drop(target, axis=1), df_test.drop(target, axis=1)"
   ]
  },
  {
   "cell_type": "code",
   "execution_count": 20,
   "metadata": {},
   "outputs": [
    {
     "name": "stdout",
     "output_type": "stream",
     "text": [
      "VALIDATION:The best coefficient of determination is 0.756045 with neighbors = 4\n",
      "TESTING: The test coefficient of determination is 0.716717 with neighbors = 4\n"
     ]
    }
   ],
   "source": [
    "from sklearn.neighbors import KNeighborsRegressor\n",
    "\n",
    "best_score = 0\n",
    "best_k = 0\n",
    "for k in range(2,16):\n",
    "    knr = KNeighborsRegressor(n_neighbors=k).fit(X_train, y_train)\n",
    "    score = knr.score(X_valid, y_valid)\n",
    "    if score > best_score:\n",
    "        best_score, best_k = score, k\n",
    "\n",
    "print(\"VALIDATION:The best coefficient of determination is %f with neighbors = %d\"%(best_score, best_k))\n",
    "knr = KNeighborsRegressor(n_neighbors=best_k).fit(X_train, y_train)\n",
    "test_score = knr.score(X_test, y_test)\n",
    "print(\"TESTING: The test coefficient of determination is %f with neighbors = %d\"%(test_score, best_k))"
   ]
  },
  {
   "cell_type": "code",
   "execution_count": null,
   "metadata": {},
   "outputs": [
    {
     "name": "stdout",
     "output_type": "stream",
     "text": [
      "VALIDATION: The best coefficient of determination is 0.804576 with n_estimators = 18 and max_depth = 19\n",
      "TESTING: The test coefficient of determination is 0.938085 with n_estimators = 18 and max_depth = 19\n"
     ]
    },
    {
     "data": {
      "text/plain": [
       "\" The results for random forest look great, but there's a big danger of overfitting in the validation phase. The test results look amazing but\\nthat appears to be coincidence. Rerunning everything with a different random state should give different results.\\n\""
      ]
     },
     "execution_count": 22,
     "metadata": {},
     "output_type": "execute_result"
    }
   ],
   "source": [
    "from sklearn.ensemble import RandomForestRegressor\n",
    "\n",
    "best_score = 0\n",
    "best_n = 0\n",
    "best_depth = 0\n",
    "for n in range(15,22):\n",
    "    for d in range(16,20):\n",
    "        rfr = RandomForestRegressor(n_estimators=n, max_depth=d, random_state=42).fit(X_train, y_train)\n",
    "        score = rfr.score(X_valid, y_valid)\n",
    "        if score > best_score:\n",
    "            best_score, best_n, best_depth = score, n, d\n",
    "\n",
    "print(\"VALIDATION: The best coefficient of determination is %f with n_estimators = %d and max_depth = %d\"%(best_score, best_n, best_depth))\n",
    "rfr = RandomForestRegressor(n_estimators=best_n, max_depth=best_depth, random_state=0).fit(X_test, y_test)\n",
    "test_score = rfr.score(X_test, y_test)\n",
    "print(\"TESTING: The test coefficient of determination is %f with n_estimators = %d and max_depth = %d\"%(test_score, best_n, best_depth))\n",
    "\n",
    "''' The results for random forest look great, but there's a big danger of overfitting in the validation phase. The test results look amazing but\n",
    "that appears to be coincidence.\n",
    "'''"
   ]
  }
 ],
 "metadata": {
  "kernelspec": {
   "display_name": ".venv",
   "language": "python",
   "name": "python3"
  },
  "language_info": {
   "codemirror_mode": {
    "name": "ipython",
    "version": 3
   },
   "file_extension": ".py",
   "mimetype": "text/x-python",
   "name": "python",
   "nbconvert_exporter": "python",
   "pygments_lexer": "ipython3",
   "version": "3.12.7"
  }
 },
 "nbformat": 4,
 "nbformat_minor": 2
}

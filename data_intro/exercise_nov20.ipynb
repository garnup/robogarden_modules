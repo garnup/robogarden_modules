{
 "cells": [
  {
   "cell_type": "code",
   "execution_count": 64,
   "metadata": {},
   "outputs": [
    {
     "name": "stdout",
     "output_type": "stream",
     "text": [
      "   Product  Sales_Q1  Sales_Q2  total_sales performance  z-score_total  \\\n",
      "0        A       1.0        90         91.0         low      -0.316033   \n",
      "1        B     200.0       210        410.0        good      -0.315922   \n",
      "2        A       0.0        80         80.0         low      -0.316036   \n",
      "3        C     150.0       140        290.0      medium      -0.315963   \n",
      "5        B     130.0       160        290.0      medium      -0.315963   \n",
      "6        C       0.0       130        130.0      medium      -0.316019   \n",
      "7        A     110.0       100        210.0      medium      -0.315991   \n",
      "8        B     180.0       450        630.0        good      -0.315845   \n",
      "9        C     170.0         0        170.0      medium      -0.316005   \n",
      "10       C     900.0    900000     900900.0        good      -0.002678   \n",
      "11       D       0.0         0          0.0         low      -0.316064   \n",
      "12       D     -10.0  10000000    9999990.0        good       3.162520   \n",
      "\n",
      "    is_z_outlier  is_iqr_outlier  \n",
      "0          False           False  \n",
      "1          False           False  \n",
      "2          False           False  \n",
      "3          False           False  \n",
      "5          False           False  \n",
      "6          False           False  \n",
      "7          False           False  \n",
      "8          False           False  \n",
      "9          False           False  \n",
      "10         False            True  \n",
      "11         False           False  \n",
      "12          True            True  \n"
     ]
    },
    {
     "name": "stderr",
     "output_type": "stream",
     "text": [
      "/tmp/ipykernel_1504/1270805008.py:30: FutureWarning: Downcasting behavior in `replace` is deprecated and will be removed in a future version. To retain the old behavior, explicitly call `result.infer_objects(copy=False)`. To opt-in to the future behavior, set `pd.set_option('future.no_silent_downcasting', True)`\n",
      "  df.replace('NA', 0, inplace=True)\n"
     ]
    }
   ],
   "source": [
    "import pandas as pd\n",
    "\n",
    "data = {\n",
    "    'Product': ['A', 'B', 'A', 'C', None, 'B', 'C', 'A', 'B', 'C', 'C', 'D', 'D'],\n",
    "    'Sales_Q1': [1, 200, None, 150, 120, 130, None, 110, 180, 170, 900, None, -10],\n",
    "    'Sales_Q2': [90, 210, 80, 140, \"NA\", 160, 130, 100, 450, \"NA\", 900000, \"NA\", 10000000]\n",
    "}\n",
    "\n",
    "def getPerformance(sales):\n",
    "    if sales <= 100:\n",
    "        return \"low\"\n",
    "    elif 100 < sales < 300:\n",
    "        return \"medium\"\n",
    "    else:\n",
    "        return \"good\"\n",
    "\n",
    "def addZscoreColumn(df, col_name, sales):\n",
    "    df[col_name] = (df[sales] - df[sales].mean()) / df[sales].std()\n",
    "\n",
    "def addIsOutlierColumn(df, col_name, sales):\n",
    "    q1 = df[sales].quantile(0.25)\n",
    "    q3 = df[sales].quantile(0.75)\n",
    "    range = 1.5*(q3 - q1)\n",
    "    df[col_name] = df[sales].apply(lambda x: (x > (q3 + range)) or (x < (q1 - range)))\n",
    "\n",
    "def main():\n",
    "    df = pd.DataFrame.from_dict(data)\n",
    "    df.dropna(subset='Product', axis=0, inplace=True)\n",
    "    df.fillna(value={'Product':0, 'Sales_Q1':0, 'Sales_Q2':0}, axis=0, inplace=True)\n",
    "    df.replace('NA', 0, inplace=True)\n",
    "\n",
    "    df['total_sales'] = df['Sales_Q1'] + df['Sales_Q2']\n",
    "    df['performance'] = df['total_sales'].apply(getPerformance)\n",
    "    #addZscoreColumn(df, 'z-score_Q1', 'Sales_Q1')\n",
    "    #addZscoreColumn(df, 'z-score_Q2', 'Sales_Q2')\n",
    "    addZscoreColumn(df, 'z-score_total', 'total_sales')\n",
    "    #addIsOutlierColumn(df, 'is_outlier_Q1', 'Sales_Q1')\n",
    "    #addIsOutlierColumn(df, 'is_outlier_Q2', 'Sales_Q2')\n",
    "    df['is_z_outlier'] = df['z-score_total'].apply(lambda x: abs(x) > 2)\n",
    "    addIsOutlierColumn(df, 'is_iqr_outlier', 'total_sales')\n",
    "    print(df)\n",
    "\n",
    "main()\n",
    "\n",
    "# sum of all A, mean, std"
   ]
  },
  {
   "cell_type": "code",
   "execution_count": 67,
   "metadata": {},
   "outputs": [
    {
     "name": "stdout",
     "output_type": "stream",
     "text": [
      "        Sales_Q1                     Sales_Q2                              \\\n",
      "             sum   mean         std       sum          mean           std   \n",
      "Product                                                                     \n",
      "A          111.0   37.0   63.221832       270  9.000000e+01  1.000000e+01   \n",
      "B          510.0  170.0   36.055513       820  2.733333e+02  1.550269e+02   \n",
      "C         1220.0  305.0  403.856410    900270  2.250675e+05  4.499550e+05   \n",
      "D          -10.0   -5.0    7.071068  10000000  5.000000e+06  7.071068e+06   \n",
      "\n",
      "        sales_total                              \n",
      "                sum          mean           std  \n",
      "Product                                          \n",
      "A             381.0  1.270000e+02  7.209022e+01  \n",
      "B            1330.0  4.433333e+02  1.724336e+02  \n",
      "C          901490.0  2.253725e+05  4.503517e+05  \n",
      "D         9999990.0  4.999995e+06  7.071061e+06  \n"
     ]
    },
    {
     "name": "stderr",
     "output_type": "stream",
     "text": [
      "/tmp/ipykernel_1504/3081263295.py:4: FutureWarning: Downcasting behavior in `replace` is deprecated and will be removed in a future version. To retain the old behavior, explicitly call `result.infer_objects(copy=False)`. To opt-in to the future behavior, set `pd.set_option('future.no_silent_downcasting', True)`\n",
      "  df = df.replace('NA', 0).infer_objects(copy=False)\n"
     ]
    }
   ],
   "source": [
    "df = pd.DataFrame.from_dict(data)\n",
    "df.dropna(subset='Product', axis=0, inplace=True)\n",
    "df.fillna(value={'Product':0, 'Sales_Q1':0, 'Sales_Q2':0}, axis=0, inplace=True)\n",
    "df = df.replace('NA', 0).infer_objects(copy=False)\n",
    "df['sales_total'] = df['Sales_Q1'] + df['Sales_Q2']\n",
    "#summary = df.groupby(['Product']).sum()\n",
    "#part2 = df.groupby(['Product']).mean().rename(columns={'Sales_Q1': 'Q1_mean', 'Sales_Q2':'Q2_mean', 'sales_total':'total_mean'})\n",
    "#part3 = df.groupby(['Product']).std().rename(columns={'Sales_Q1': 'Q1_std', 'Sales_Q2':'Q2_std', 'sales_total':'total_std'})\n",
    "#summary = pd.merge(summary, part2, how='left', on=['Product'])\n",
    "#summary = pd.merge(summary, part3, how='left', on=['Product'])\n",
    "summary = df.groupby(['Product']).agg(['sum', 'mean', 'std'])\n",
    "print(summary)\n",
    "\n"
   ]
  },
  {
   "cell_type": "code",
   "execution_count": 112,
   "metadata": {},
   "outputs": [
    {
     "name": "stdout",
     "output_type": "stream",
     "text": [
      "                   total_sales                            \n",
      "                           sum          mean           std\n",
      "Category    Region                                        \n",
      "Appliances  North   10900890.0  5.450445e+06  6.434028e+06\n",
      "Electronics East         590.0  1.966667e+02  8.326664e+01\n",
      "            North        381.0  1.270000e+02  7.209022e+01\n",
      "Furniture   South       1330.0  4.433333e+02  1.724336e+02\n",
      "            West           0.0  0.000000e+00           NaN\n"
     ]
    }
   ],
   "source": [
    "# Original sales DataFrame\n",
    "data = {\n",
    "    'Product': ['A', 'B', 'A', 'C', None, 'B', 'C', 'A', 'B', 'C', 'D', 'E', 'D'],\n",
    "    'Sales_Q1': [100, 200, None, 150, 120, 130, None, 110, 180, 170, 10, 400, 700],\n",
    "    'Sales_Q2': [90, 210, 80, 140, None, 160, 130, 100, 200, None, 20, 500, 700]\n",
    "}\n",
    "df_sales = pd.DataFrame.from_dict(data)\n",
    "df_sales = df_sales.dropna(subset=['Product'])\n",
    " \n",
    "# New product info DataFrame\n",
    "data_info = {\n",
    "    'Product': ['A', 'B', 'C', 'D', 'E', 'F'],\n",
    "    'Category': ['Electronics', 'Furniture', 'Electronics', 'Appliances', 'Furniture', 'Electronics'],\n",
    "    'Region': ['North', 'South', 'East', 'North', 'West', 'East']\n",
    "}\n",
    "df_product_info = pd.DataFrame.from_dict(data_info)\n",
    "df_sales['total_sales'] = df['Sales_Q1'] + df['Sales_Q2']\n",
    "summary = df_sales.merge(df_product_info, on=['Product'])\n",
    "summary = summary.groupby(['Category', 'Region'])[['total_sales']].agg(['sum', 'mean', 'std'])\n",
    "#Q1 = summary['Sales_Q1'].merge(df_product_info, on=['Product'])\n",
    "#Q2 = summary['Sales_Q2'].merge(df_product_info, on=['Product'])\n",
    "#print(Q1)\n",
    "#print(Q2)\n",
    "print(summary)"
   ]
  },
  {
   "cell_type": "code",
   "execution_count": 43,
   "metadata": {},
   "outputs": [
    {
     "data": {
      "text/plain": [
       "4"
      ]
     },
     "execution_count": 43,
     "metadata": {},
     "output_type": "execute_result"
    }
   ],
   "source": [
    "def delta(m1, m2):\n",
    "    diff = abs(m1 - m2)\n",
    "    if diff <= 6:\n",
    "        return diff\n",
    "    else:\n",
    "        return 12 - diff\n",
    "\n",
    "delta(4, 12)"
   ]
  }
 ],
 "metadata": {
  "kernelspec": {
   "display_name": ".venv",
   "language": "python",
   "name": "python3"
  },
  "language_info": {
   "codemirror_mode": {
    "name": "ipython",
    "version": 3
   },
   "file_extension": ".py",
   "mimetype": "text/x-python",
   "name": "python",
   "nbconvert_exporter": "python",
   "pygments_lexer": "ipython3",
   "version": "3.12.7"
  }
 },
 "nbformat": 4,
 "nbformat_minor": 2
}

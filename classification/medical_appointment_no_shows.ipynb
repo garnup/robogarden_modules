{
 "cells": [
  {
   "cell_type": "code",
   "execution_count": 49,
   "metadata": {},
   "outputs": [
    {
     "name": "stdout",
     "output_type": "stream",
     "text": [
      "      PatientId  AppointmentID Gender          ScheduledDay  \\\n",
      "0  2.987250e+13        5642903      F  2016-04-29T18:38:08Z   \n",
      "1  5.589978e+14        5642503      M  2016-04-29T16:08:27Z   \n",
      "2  4.262962e+12        5642549      F  2016-04-29T16:19:04Z   \n",
      "3  8.679512e+11        5642828      F  2016-04-29T17:29:31Z   \n",
      "4  8.841186e+12        5642494      F  2016-04-29T16:07:23Z   \n",
      "\n",
      "         AppointmentDay  Age      Neighbourhood  Scholarship  Hipertension  \\\n",
      "0  2016-04-29T00:00:00Z   62    JARDIM DA PENHA            0             1   \n",
      "1  2016-04-29T00:00:00Z   56    JARDIM DA PENHA            0             0   \n",
      "2  2016-04-29T00:00:00Z   62      MATA DA PRAIA            0             0   \n",
      "3  2016-04-29T00:00:00Z    8  PONTAL DE CAMBURI            0             0   \n",
      "4  2016-04-29T00:00:00Z   56    JARDIM DA PENHA            0             1   \n",
      "\n",
      "   Diabetes  Alcoholism  Handcap  SMS_received No-show  \n",
      "0         0           0        0             0      No  \n",
      "1         0           0        0             0      No  \n",
      "2         0           0        0             0      No  \n",
      "3         0           0        0             0      No  \n",
      "4         1           0        0             0      No  \n"
     ]
    }
   ],
   "source": [
    "import pandas as pd\n",
    "import numpy as np\n",
    "import matplotlib.pyplot as plt\n",
    "import seaborn as sns\n",
    "\n",
    "FILE = 'medical_no_shows_KaggleV2-May-2016.csv'\n",
    "\n",
    "df = pd.read_csv(FILE)\n",
    "\n",
    "print(df.head(5))"
   ]
  },
  {
   "cell_type": "code",
   "execution_count": 50,
   "metadata": {},
   "outputs": [
    {
     "name": "stdout",
     "output_type": "stream",
     "text": [
      "   Gender  Scholarship  Hypertension  Diabetes  Alcoholism  Handicap  \\\n",
      "0       0            0             1         0           0         0   \n",
      "1       1            0             0         0           0         0   \n",
      "2       0            0             0         0           0         0   \n",
      "3       0            0             0         0           0         0   \n",
      "4       0            0             1         1           0         0   \n",
      "\n",
      "   SMS_received  Age_scaled  \n",
      "0             0    1.077932  \n",
      "1             0    0.818306  \n",
      "2             0    1.077932  \n",
      "3             0   -1.258708  \n",
      "4             0    0.818306  \n",
      "\n",
      "Null values in selected data: \n",
      "Gender          0\n",
      "Scholarship     0\n",
      "Hypertension    0\n",
      "Diabetes        0\n",
      "Alcoholism      0\n",
      "Handicap        0\n",
      "SMS_received    0\n",
      "Age_scaled      0\n",
      "dtype: int64\n"
     ]
    }
   ],
   "source": [
    "df = df.dropna()\n",
    "select_features = ['Gender', 'Age', 'Scholarship', 'Hipertension', 'Diabetes', 'Alcoholism', 'Handcap', 'SMS_received']\n",
    "df_sub = df[select_features]\n",
    "typos = {'Hipertension': 'Hypertension', 'Handcap': 'Handicap'}\n",
    "df_sub = df_sub.rename(typos, axis=1)\n",
    "genders = {'F':0, 'M':1}\n",
    "df_sub['Gender'] = df_sub['Gender'].apply(lambda x: genders[x])\n",
    "target = df['No-show']\n",
    "target_vals = {'No':0, 'Yes':1}\n",
    "target = target.apply(lambda x: target_vals[x])\n",
    "\n",
    "from sklearn.preprocessing import StandardScaler\n",
    "age_scaled = pd.DataFrame(StandardScaler().fit_transform(pd.DataFrame(df_sub['Age'])), columns=['Age_scaled'])\n",
    "df_sub = pd.concat([df_sub, age_scaled], axis=1)\n",
    "df_sub = df_sub.drop('Age', axis=1)\n",
    "print(df_sub.head(5))\n",
    "print(\"\\nNull values in selected data: \")\n",
    "print(df_sub.isna().sum())\n"
   ]
  },
  {
   "cell_type": "code",
   "execution_count": 51,
   "metadata": {},
   "outputs": [
    {
     "data": {
      "text/html": [
       "<div>\n",
       "<style scoped>\n",
       "    .dataframe tbody tr th:only-of-type {\n",
       "        vertical-align: middle;\n",
       "    }\n",
       "\n",
       "    .dataframe tbody tr th {\n",
       "        vertical-align: top;\n",
       "    }\n",
       "\n",
       "    .dataframe thead th {\n",
       "        text-align: right;\n",
       "    }\n",
       "</style>\n",
       "<table border=\"1\" class=\"dataframe\">\n",
       "  <thead>\n",
       "    <tr style=\"text-align: right;\">\n",
       "      <th></th>\n",
       "      <th>Gender</th>\n",
       "      <th>Scholarship</th>\n",
       "      <th>Hypertension</th>\n",
       "      <th>Diabetes</th>\n",
       "      <th>Alcoholism</th>\n",
       "      <th>Handicap</th>\n",
       "      <th>SMS_received</th>\n",
       "      <th>Age_scaled</th>\n",
       "    </tr>\n",
       "  </thead>\n",
       "  <tbody>\n",
       "    <tr>\n",
       "      <th>count</th>\n",
       "      <td>88421.000000</td>\n",
       "      <td>88421.000000</td>\n",
       "      <td>88421.000000</td>\n",
       "      <td>88421.000000</td>\n",
       "      <td>88421.000000</td>\n",
       "      <td>88421.000000</td>\n",
       "      <td>88421.000000</td>\n",
       "      <td>88421.000000</td>\n",
       "    </tr>\n",
       "    <tr>\n",
       "      <th>mean</th>\n",
       "      <td>0.348311</td>\n",
       "      <td>0.098472</td>\n",
       "      <td>0.197329</td>\n",
       "      <td>0.071397</td>\n",
       "      <td>0.030592</td>\n",
       "      <td>0.022336</td>\n",
       "      <td>0.321145</td>\n",
       "      <td>0.000530</td>\n",
       "    </tr>\n",
       "    <tr>\n",
       "      <th>std</th>\n",
       "      <td>0.476438</td>\n",
       "      <td>0.297954</td>\n",
       "      <td>0.397985</td>\n",
       "      <td>0.257488</td>\n",
       "      <td>0.172211</td>\n",
       "      <td>0.162153</td>\n",
       "      <td>0.466919</td>\n",
       "      <td>0.999387</td>\n",
       "    </tr>\n",
       "    <tr>\n",
       "      <th>min</th>\n",
       "      <td>0.000000</td>\n",
       "      <td>0.000000</td>\n",
       "      <td>0.000000</td>\n",
       "      <td>0.000000</td>\n",
       "      <td>0.000000</td>\n",
       "      <td>0.000000</td>\n",
       "      <td>0.000000</td>\n",
       "      <td>-1.604877</td>\n",
       "    </tr>\n",
       "    <tr>\n",
       "      <th>25%</th>\n",
       "      <td>0.000000</td>\n",
       "      <td>0.000000</td>\n",
       "      <td>0.000000</td>\n",
       "      <td>0.000000</td>\n",
       "      <td>0.000000</td>\n",
       "      <td>0.000000</td>\n",
       "      <td>0.000000</td>\n",
       "      <td>-0.825997</td>\n",
       "    </tr>\n",
       "    <tr>\n",
       "      <th>50%</th>\n",
       "      <td>0.000000</td>\n",
       "      <td>0.000000</td>\n",
       "      <td>0.000000</td>\n",
       "      <td>0.000000</td>\n",
       "      <td>0.000000</td>\n",
       "      <td>0.000000</td>\n",
       "      <td>0.000000</td>\n",
       "      <td>-0.003846</td>\n",
       "    </tr>\n",
       "    <tr>\n",
       "      <th>75%</th>\n",
       "      <td>1.000000</td>\n",
       "      <td>0.000000</td>\n",
       "      <td>0.000000</td>\n",
       "      <td>0.000000</td>\n",
       "      <td>0.000000</td>\n",
       "      <td>0.000000</td>\n",
       "      <td>1.000000</td>\n",
       "      <td>0.775035</td>\n",
       "    </tr>\n",
       "    <tr>\n",
       "      <th>max</th>\n",
       "      <td>1.000000</td>\n",
       "      <td>1.000000</td>\n",
       "      <td>1.000000</td>\n",
       "      <td>1.000000</td>\n",
       "      <td>1.000000</td>\n",
       "      <td>4.000000</td>\n",
       "      <td>1.000000</td>\n",
       "      <td>3.371302</td>\n",
       "    </tr>\n",
       "  </tbody>\n",
       "</table>\n",
       "</div>"
      ],
      "text/plain": [
       "             Gender   Scholarship  Hypertension      Diabetes    Alcoholism  \\\n",
       "count  88421.000000  88421.000000  88421.000000  88421.000000  88421.000000   \n",
       "mean       0.348311      0.098472      0.197329      0.071397      0.030592   \n",
       "std        0.476438      0.297954      0.397985      0.257488      0.172211   \n",
       "min        0.000000      0.000000      0.000000      0.000000      0.000000   \n",
       "25%        0.000000      0.000000      0.000000      0.000000      0.000000   \n",
       "50%        0.000000      0.000000      0.000000      0.000000      0.000000   \n",
       "75%        1.000000      0.000000      0.000000      0.000000      0.000000   \n",
       "max        1.000000      1.000000      1.000000      1.000000      1.000000   \n",
       "\n",
       "           Handicap  SMS_received    Age_scaled  \n",
       "count  88421.000000  88421.000000  88421.000000  \n",
       "mean       0.022336      0.321145      0.000530  \n",
       "std        0.162153      0.466919      0.999387  \n",
       "min        0.000000      0.000000     -1.604877  \n",
       "25%        0.000000      0.000000     -0.825997  \n",
       "50%        0.000000      0.000000     -0.003846  \n",
       "75%        0.000000      1.000000      0.775035  \n",
       "max        4.000000      1.000000      3.371302  "
      ]
     },
     "execution_count": 51,
     "metadata": {},
     "output_type": "execute_result"
    }
   ],
   "source": [
    "from sklearn.model_selection import train_test_split\n",
    "x_train, x_test_valid, y_train, y_test_valid = train_test_split(df_sub, target, test_size=0.2, random_state=0)\n",
    "x_valid, x_test, y_valid, y_test = train_test_split(x_test_valid, y_test_valid, test_size=0.5, random_state=0)\n",
    "\n",
    "x_train.describe()"
   ]
  },
  {
   "cell_type": "code",
   "execution_count": null,
   "metadata": {},
   "outputs": [
    {
     "name": "stdout",
     "output_type": "stream",
     "text": [
      "Decision tree validation phase: the best score is 0.799240 with criteria=log_loss, splitter=random, max_depth=6\n",
      "Decision tree testing phase: score = 0.804578\n"
     ]
    }
   ],
   "source": [
    "from sklearn.tree import DecisionTreeClassifier\n",
    "criteria = ['gini', 'entropy', 'log_loss']\n",
    "splitter = ['best', 'random']\n",
    "best_score = float('-inf')\n",
    "best_criterion = 'gini'\n",
    "best_split = 'best'\n",
    "best_depth = 1\n",
    "\n",
    "for c in criteria:\n",
    "    for s in splitter:\n",
    "        for depth in range(1,11):\n",
    "            score = DecisionTreeClassifier(criterion=c, splitter=s, max_depth=depth).fit(x_train, y_train).score(x_valid, y_valid)\n",
    "            if score > best_score:\n",
    "                best_score, best_criterion, best_split, best_depth = score, c, s, depth\n",
    "print(\"Decision tree validation phase: the best score is %f with criteria=%s, splitter=%s, max_depth=%d\"%(best_score, best_criterion, best_split, best_depth))\n",
    "dtc = DecisionTreeClassifier(criterion=best_criterion, splitter=best_split, max_depth=best_depth).fit(x_train, y_train)\n",
    "score = dtc.score(x_test, y_test)\n",
    "print(\"Decision tree testing phase: score = %f\"%score)\n",
    "\n"
   ]
  },
  {
   "cell_type": "code",
   "execution_count": 58,
   "metadata": {},
   "outputs": [
    {
     "name": "stdout",
     "output_type": "stream",
     "text": [
      "\n",
      "Confusion Matrix:\n"
     ]
    },
    {
     "data": {
      "text/plain": [
       "<sklearn.metrics._plot.confusion_matrix.ConfusionMatrixDisplay at 0x7fc1980eff50>"
      ]
     },
     "execution_count": 58,
     "metadata": {},
     "output_type": "execute_result"
    },
    {
     "data": {
      "image/png": "[encoded data removed]",
      "text/plain": [
       "<Figure size 640x480 with 2 Axes>"
      ]
     },
     "metadata": {},
     "output_type": "display_data"
    }
   ],
   "source": [
    "from sklearn.metrics import confusion_matrix, ConfusionMatrixDisplay\n",
    "y_pred = dtc.predict(x_test)\n",
    "print(\"\\nConfusion Matrix:\")\n",
    "cm = confusion_matrix(y_test, y_pred)\n",
    "fig = ConfusionMatrixDisplay(confusion_matrix=cm)\n",
    "fig.plot()"
   ]
  },
  {
   "cell_type": "code",
   "execution_count": 60,
   "metadata": {},
   "outputs": [
    {
     "name": "stdout",
     "output_type": "stream",
     "text": [
      "Random forest validation phhase: best score is 0.799511 with criterion=gini, n_estimators=16, max_depth=8\n",
      "Random forest testing phase: score =  0.8015923278747851\n"
     ]
    },
    {
     "data": {
      "text/plain": [
       "<sklearn.metrics._plot.confusion_matrix.ConfusionMatrixDisplay at 0x7fc1a07c5d00>"
      ]
     },
     "execution_count": 60,
     "metadata": {},
     "output_type": "execute_result"
    },
    {
     "data": {
      "image/png": "[encoded data removed]",
      "text/plain": [
       "<Figure size 640x480 with 2 Axes>"
      ]
     },
     "metadata": {},
     "output_type": "display_data"
    }
   ],
   "source": [
    "from sklearn.ensemble import RandomForestClassifier\n",
    "\n",
    "best_score = float('-inf')\n",
    "best_criterion = 'gini'\n",
    "best_estimators = 1\n",
    "best_depth = 1\n",
    "\n",
    "for e in range(1,25):\n",
    "    for c in criteria:\n",
    "        for d in range(1, 11):\n",
    "            score = RandomForestClassifier(n_estimators=e, criterion=c, max_depth=d).fit(x_train, y_train).score(x_valid, y_valid)\n",
    "            if score > best_score:\n",
    "                best_score, best_criterion, best_estimators, best_depth = score, c, e, d\n",
    "print(\"Random forest validation phhase: best score is %f with criterion=%s, n_estimators=%d, max_depth=%d\"%(best_score, best_criterion, best_estimators, best_depth))\n",
    "rfc = RandomForestClassifier(n_estimators=best_estimators, criterion=best_criterion).fit(x_train, y_train)\n",
    "score = rfc.score(x_test, y_test)\n",
    "print(\"Random forest testing phase: score = \", score)\n",
    "y_pred = rfc.predict(x_test)\n",
    "cm = confusion_matrix(y_test, y_pred)\n",
    "fig = ConfusionMatrixDisplay(confusion_matrix=cm)\n",
    "fig.plot()"
   ]
  }
 ],
 "metadata": {
  "kernelspec": {
   "display_name": ".venv",
   "language": "python",
   "name": "python3"
  },
  "language_info": {
   "codemirror_mode": {
    "name": "ipython",
    "version": 3
   },
   "file_extension": ".py",
   "mimetype": "text/x-python",
   "name": "python",
   "nbconvert_exporter": "python",
   "pygments_lexer": "ipython3",
   "version": "3.12.7"
  }
 },
 "nbformat": 4,
 "nbformat_minor": 2
}
